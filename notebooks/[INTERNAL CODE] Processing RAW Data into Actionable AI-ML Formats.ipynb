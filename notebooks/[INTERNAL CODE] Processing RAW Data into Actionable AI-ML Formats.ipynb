{
 "cells": [
  {
   "cell_type": "markdown",
   "id": "57a027fc",
   "metadata": {
    "ExecuteTime": {
     "end_time": "2023-02-21T07:06:24.891603Z",
     "start_time": "2023-02-21T07:06:24.873583Z"
    }
   },
   "source": [
    "<h1 align = \"center\"><code>Internal Code</code> Processing of RAW Data</h1>"
   ]
  },
  {
   "cell_type": "code",
   "execution_count": 1,
   "id": "829a6867",
   "metadata": {
    "ExecuteTime": {
     "end_time": "2023-02-21T16:49:34.359171Z",
     "start_time": "2023-02-21T16:49:34.344173Z"
    }
   },
   "outputs": [],
   "source": [
    "import os   # miscellaneous os interfaces\n",
    "import sys  # configuring python runtime environment"
   ]
  },
  {
   "cell_type": "code",
   "execution_count": 2,
   "id": "d26ca185",
   "metadata": {
    "ExecuteTime": {
     "end_time": "2023-02-21T16:49:34.923543Z",
     "start_time": "2023-02-21T16:49:34.919544Z"
    }
   },
   "outputs": [],
   "source": [
    "import datetime as dt"
   ]
  },
  {
   "cell_type": "code",
   "execution_count": 3,
   "id": "3bfa3927",
   "metadata": {
    "ExecuteTime": {
     "end_time": "2023-02-21T16:49:35.655302Z",
     "start_time": "2023-02-21T16:49:35.640299Z"
    }
   },
   "outputs": [],
   "source": [
    "from copy import deepcopy"
   ]
  },
  {
   "cell_type": "code",
   "execution_count": 4,
   "id": "35e0ecbf",
   "metadata": {
    "ExecuteTime": {
     "end_time": "2023-02-21T16:49:36.484604Z",
     "start_time": "2023-02-21T16:49:36.160825Z"
    }
   },
   "outputs": [],
   "source": [
    "import numpy as np\n",
    "import pandas as pd\n",
    "\n",
    "%precision 3\n",
    "pd.set_option('display.max_rows', 50) # max. rows to show\n",
    "pd.set_option('display.max_columns', 15) # max. cols to show\n",
    "np.set_printoptions(precision = 3, threshold = 15) # set np options\n",
    "pd.options.display.float_format = '{:,.3f}'.format # float precisions"
   ]
  },
  {
   "cell_type": "code",
   "execution_count": 5,
   "id": "759d1547",
   "metadata": {
    "ExecuteTime": {
     "end_time": "2023-02-21T16:49:37.866333Z",
     "start_time": "2023-02-21T16:49:37.759348Z"
    }
   },
   "outputs": [],
   "source": [
    "sys.path.append(os.path.join(\"..\", \"src\", \"engine\")) # derivative engines for model control\n",
    "from scaler import UnivariateRangedScaler # 🎉 scaling data with a defined data-range"
   ]
  },
  {
   "cell_type": "code",
   "execution_count": 6,
   "id": "5320be75",
   "metadata": {
    "ExecuteTime": {
     "end_time": "2023-02-21T16:49:39.697870Z",
     "start_time": "2023-02-21T16:49:39.606699Z"
    }
   },
   "outputs": [],
   "source": [
    "# also append the `utilities` directory for additional helpful codes\n",
    "sys.path.append(os.path.join(\"..\", \"utilities\"))\n",
    "from featuring import CreateSequence"
   ]
  },
  {
   "cell_type": "code",
   "execution_count": 15,
   "id": "963d3534",
   "metadata": {
    "ExecuteTime": {
     "end_time": "2023-02-21T16:51:19.037593Z",
     "start_time": "2023-02-21T16:51:19.021441Z"
    }
   },
   "outputs": [],
   "source": [
    "ROOT = \"..\" # the document root is one level up, that contains all code structure\n",
    "PROCESSED_DATA = os.path.join(ROOT, \"data\", \"processed\") # save the processed file in this directory"
   ]
  },
  {
   "cell_type": "code",
   "execution_count": 8,
   "id": "0ff30010",
   "metadata": {
    "ExecuteTime": {
     "end_time": "2023-02-21T16:50:12.703147Z",
     "start_time": "2023-02-21T16:49:41.941667Z"
    }
   },
   "outputs": [
    {
     "data": {
      "text/html": [
       "<div>\n",
       "<style scoped>\n",
       "    .dataframe tbody tr th:only-of-type {\n",
       "        vertical-align: middle;\n",
       "    }\n",
       "\n",
       "    .dataframe tbody tr th {\n",
       "        vertical-align: top;\n",
       "    }\n",
       "\n",
       "    .dataframe thead th {\n",
       "        text-align: right;\n",
       "    }\n",
       "</style>\n",
       "<table border=\"1\" class=\"dataframe\">\n",
       "  <thead>\n",
       "    <tr style=\"text-align: right;\">\n",
       "      <th></th>\n",
       "      <th>EffectiveDate</th>\n",
       "      <th>year</th>\n",
       "      <th>month</th>\n",
       "      <th>day</th>\n",
       "      <th>BlockID</th>\n",
       "      <th>PurchaseBid</th>\n",
       "      <th>SellBid</th>\n",
       "      <th>MCV</th>\n",
       "      <th>MCP</th>\n",
       "    </tr>\n",
       "  </thead>\n",
       "  <tbody>\n",
       "    <tr>\n",
       "      <th>138479</th>\n",
       "      <td>2016-03-14</td>\n",
       "      <td>2016</td>\n",
       "      <td>3</td>\n",
       "      <td>14</td>\n",
       "      <td>48</td>\n",
       "      <td>6,437.600</td>\n",
       "      <td>5,437.900</td>\n",
       "      <td>5,131.680</td>\n",
       "      <td>2,809.330</td>\n",
       "    </tr>\n",
       "  </tbody>\n",
       "</table>\n",
       "</div>"
      ],
      "text/plain": [
       "       EffectiveDate  year  month  day  BlockID  PurchaseBid   SellBid  \\\n",
       "138479    2016-03-14  2016      3   14       48    6,437.600 5,437.900   \n",
       "\n",
       "             MCV       MCP  \n",
       "138479 5,131.680 2,809.330  "
      ]
     },
     "execution_count": 8,
     "metadata": {},
     "output_type": "execute_result"
    }
   ],
   "source": [
    "MARKET_SNAPSHOT_FILE_PATH = r\"E:\\database\\Indian Energy Exchange\\Day Ahead Market (DAM)\\PROCESSED_MarketSnapshot_01-04-2012_31-12-2022.xlsx\"\n",
    "market_snapshot = pd.read_excel(MARKET_SNAPSHOT_FILE_PATH, sheet_name = \"MarketSnapshot\")\n",
    "market_snapshot[\"EffectiveDate\"] = pd.to_datetime(market_snapshot[\"EffectiveDate\"], format = \"%Y-%m-%d\")\n",
    "\n",
    "# already known that 01-08-2012 data records are missing from data source, and\n",
    "# this is a very old record, thus just copy paste the previous days records\n",
    "missing_records = deepcopy(market_snapshot[market_snapshot[\"EffectiveDate\"] == dt.datetime(year = 2022, month = 7, day = 31)])\n",
    "missing_records[\"EffectiveDate\"] = pd.Timestamp(year = 2022, month = 7, day = 31)\n",
    "\n",
    "market_snapshot = pd.concat([market_snapshot, missing_records], ignore_index = True)\n",
    "market_snapshot.sort_values(by = [\"EffectiveDate\", \"BlockID\"], inplace = True)\n",
    "\n",
    "# insert additional columns like year, month and day\n",
    "market_snapshot[\"year\"], market_snapshot[\"month\"], market_snapshot[\"day\"] = zip(*market_snapshot[\"EffectiveDate\"].apply(lambda x : (x.year, x.month, x.day)))\n",
    "market_snapshot = market_snapshot[[\"EffectiveDate\", \"year\", \"month\", \"day\", \"BlockID\", \"PurchaseBid\", \"SellBid\", \"MCV\", \"MCP\"]]\n",
    "\n",
    "market_snapshot.sample()"
   ]
  },
  {
   "cell_type": "markdown",
   "id": "a71e01f8",
   "metadata": {},
   "source": [
    "## Data Scaling\n",
    "\n",
    "Currently, let's define a basic model considering only a univariate time series data of *market clearing price* for which we scale the price considering the minimum and maximum allowed price for that particular day. Interestingly, minimum price has always been ₹ 0.10 / MW while the maximum price is:\n",
    "\n",
    "$$\n",
    "p_b \\in\n",
    "\\begin{cases}\n",
    "    ₹ 20.00, \\text{upto 03.04.2022} \\\\\n",
    "    ₹ 12.00, \\text{from 04.04.2022}\n",
    "\\end{cases}\n",
    "$$\n",
    "\n",
    "Considering the above use case in mind, the `MinMaxScaler` has been tweaked to accept `x_min` and `x_max` parameters, while working with a univariate time series data like this. Check documentation using **`help(UnivariateRangedScaler)`** for more information. The general scaling formula used as:\n",
    "\n",
    "$$\n",
    "    \\hat{x} = \\tau_0 + \\frac{x - x_{min}}{x_{max} - x_{min}}\n",
    "$$"
   ]
  },
  {
   "cell_type": "code",
   "execution_count": 9,
   "id": "490b15bf",
   "metadata": {
    "ExecuteTime": {
     "end_time": "2023-02-21T16:50:16.637260Z",
     "start_time": "2023-02-21T16:50:16.583325Z"
    }
   },
   "outputs": [
    {
     "data": {
      "text/html": [
       "<div>\n",
       "<style scoped>\n",
       "    .dataframe tbody tr th:only-of-type {\n",
       "        vertical-align: middle;\n",
       "    }\n",
       "\n",
       "    .dataframe tbody tr th {\n",
       "        vertical-align: top;\n",
       "    }\n",
       "\n",
       "    .dataframe thead th {\n",
       "        text-align: right;\n",
       "    }\n",
       "</style>\n",
       "<table border=\"1\" class=\"dataframe\">\n",
       "  <thead>\n",
       "    <tr style=\"text-align: right;\">\n",
       "      <th></th>\n",
       "      <th>EffectiveDate</th>\n",
       "      <th>year</th>\n",
       "      <th>month</th>\n",
       "      <th>day</th>\n",
       "      <th>BlockID</th>\n",
       "      <th>PurchaseBid</th>\n",
       "      <th>SellBid</th>\n",
       "      <th>MCV</th>\n",
       "      <th>MCP</th>\n",
       "      <th>scaled(MCP)</th>\n",
       "    </tr>\n",
       "  </thead>\n",
       "  <tbody>\n",
       "    <tr>\n",
       "      <th>155760</th>\n",
       "      <td>2016-09-10</td>\n",
       "      <td>2016</td>\n",
       "      <td>9</td>\n",
       "      <td>10</td>\n",
       "      <td>49</td>\n",
       "      <td>7,076.000</td>\n",
       "      <td>7,824.400</td>\n",
       "      <td>5,942.720</td>\n",
       "      <td>2,753.210</td>\n",
       "      <td>1.133</td>\n",
       "    </tr>\n",
       "  </tbody>\n",
       "</table>\n",
       "</div>"
      ],
      "text/plain": [
       "       EffectiveDate  year  month  day  BlockID  PurchaseBid   SellBid  \\\n",
       "155760    2016-09-10  2016      9   10       49    7,076.000 7,824.400   \n",
       "\n",
       "             MCV       MCP  scaled(MCP)  \n",
       "155760 5,942.720 2,753.210        1.133  "
      ]
     },
     "execution_count": 9,
     "metadata": {},
     "output_type": "execute_result"
    }
   ],
   "source": [
    "scaler0 = UnivariateRangedScaler(x_min = 0.10 * 1e3, x_max = 20.00 * 1e3, feature_range = (1, 2))\n",
    "mcp_values_0 = market_snapshot[market_snapshot[\"EffectiveDate\"] <= dt.datetime(year = 2022, month = 4, day = 3)][\"MCP\"].values\n",
    "sc_mcp_values_0 = scaler0.fit_transform(mcp_values_0)\n",
    "\n",
    "scaler1 = UnivariateRangedScaler(x_min = 0.10 * 1e3, x_max = 12.00 * 1e3, feature_range = (1, 2))\n",
    "mcp_values_1 = market_snapshot[market_snapshot[\"EffectiveDate\"] >= dt.datetime(year = 2022, month = 4, day = 4)][\"MCP\"].values\n",
    "sc_mcp_values_1 = scaler1.fit_transform(mcp_values_1)\n",
    "\n",
    "market_snapshot[\"scaled(MCP)\"] = np.concatenate((sc_mcp_values_0, sc_mcp_values_1))\n",
    "market_snapshot.sample()"
   ]
  },
  {
   "cell_type": "code",
   "execution_count": 9,
   "id": "7deb41a5",
   "metadata": {
    "ExecuteTime": {
     "end_time": "2023-02-21T07:27:04.833113Z",
     "start_time": "2023-02-21T07:27:04.820128Z"
    }
   },
   "outputs": [],
   "source": [
    "# market_snapshot.to_pickle(os.path.join(PROCESSED_DATA, \"df_consolidated_2012-04-01_2022-12-31.pickle\"))"
   ]
  },
  {
   "cell_type": "markdown",
   "id": "ea58c198",
   "metadata": {},
   "source": [
    "## Data Formatting\n",
    "\n",
    "Formatting the `data` into `x_train` and `y_train` using `.reshape()` functionality as required by LSTM network."
   ]
  },
  {
   "cell_type": "code",
   "execution_count": 10,
   "id": "f6b82a82",
   "metadata": {
    "ExecuteTime": {
     "end_time": "2023-02-21T16:50:22.532490Z",
     "start_time": "2023-02-21T16:50:22.526490Z"
    }
   },
   "outputs": [],
   "source": [
    "START_DATE = dt.datetime(year = 2019, month = 4, day = 1)\n",
    "FINAL_DATE = dt.datetime(year = 2022, month = 10, day = 31)"
   ]
  },
  {
   "cell_type": "code",
   "execution_count": 11,
   "id": "9db18182",
   "metadata": {
    "ExecuteTime": {
     "end_time": "2023-02-21T16:50:24.024779Z",
     "start_time": "2023-02-21T16:50:23.999634Z"
    }
   },
   "outputs": [
    {
     "name": "stdout",
     "output_type": "stream",
     "text": [
      "Current Data Shape: (125856,)\n"
     ]
    }
   ],
   "source": [
    "data = market_snapshot[(market_snapshot[\"EffectiveDate\"] >= START_DATE) & (market_snapshot[\"EffectiveDate\"] <= FINAL_DATE)][\"scaled(MCP)\"].values\n",
    "print(f\"Current Data Shape: {data.shape}\")"
   ]
  },
  {
   "cell_type": "code",
   "execution_count": 12,
   "id": "d52e4bba",
   "metadata": {
    "ExecuteTime": {
     "end_time": "2023-02-21T16:50:31.450487Z",
     "start_time": "2023-02-21T16:50:31.431416Z"
    }
   },
   "outputs": [],
   "source": [
    "n_lookback = 7 * 96 # 🧪 look into 7 days past records\n",
    "n_forecast = 2 * 96 # on t(-1) we want prediction for t(+1)"
   ]
  },
  {
   "cell_type": "code",
   "execution_count": 13,
   "id": "95d45dc7",
   "metadata": {
    "ExecuteTime": {
     "end_time": "2023-02-21T16:50:35.571106Z",
     "start_time": "2023-02-21T16:50:35.231102Z"
    }
   },
   "outputs": [
    {
     "name": "stdout",
     "output_type": "stream",
     "text": [
      "Formatted Data Shape: ((124993, 672, 1), (124993, 192, 1))\n"
     ]
    }
   ],
   "source": [
    "x_train, y_train = CreateSequence(data).create_univariate_series(n_lookback = n_lookback,n_forecast = n_forecast)\n",
    "print(f\"Formatted Data Shape: {x_train.shape, y_train.shape}\")"
   ]
  },
  {
   "cell_type": "code",
   "execution_count": 16,
   "id": "fd3327ee",
   "metadata": {
    "ExecuteTime": {
     "end_time": "2023-02-21T16:51:31.181044Z",
     "start_time": "2023-02-21T16:51:23.341744Z"
    }
   },
   "outputs": [],
   "source": [
    "training_data_outfile = os.path.join(\n",
    "    PROCESSED_DATA,\n",
    "    f\"xy_train_consolidated_{str(START_DATE.date())}_{str(FINAL_DATE.date())}_n_lookback_{n_lookback}_n_forecast_{n_forecast}.npy\"\n",
    ")\n",
    "\n",
    "with open(training_data_outfile, \"wb\") as fileObj:\n",
    "    np.save(fileObj, x_train)\n",
    "    np.save(fileObj, y_train)"
   ]
  }
 ],
 "metadata": {
  "kernelspec": {
   "display_name": "TensorFlow 2.9.0 (GPU)",
   "language": "python",
   "name": "tensorflow"
  },
  "language_info": {
   "codemirror_mode": {
    "name": "ipython",
    "version": 3
   },
   "file_extension": ".py",
   "mimetype": "text/x-python",
   "name": "python",
   "nbconvert_exporter": "python",
   "pygments_lexer": "ipython3",
   "version": "3.9.13"
  },
  "toc": {
   "base_numbering": 1,
   "nav_menu": {},
   "number_sections": false,
   "sideBar": true,
   "skip_h1_title": true,
   "title_cell": "Table of Contents",
   "title_sidebar": "Contents",
   "toc_cell": false,
   "toc_position": {},
   "toc_section_display": true,
   "toc_window_display": false
  },
  "varInspector": {
   "cols": {
    "lenName": 16,
    "lenType": 16,
    "lenVar": 40
   },
   "kernels_config": {
    "python": {
     "delete_cmd_postfix": "",
     "delete_cmd_prefix": "del ",
     "library": "var_list.py",
     "varRefreshCmd": "print(var_dic_list())"
    },
    "r": {
     "delete_cmd_postfix": ") ",
     "delete_cmd_prefix": "rm(",
     "library": "var_list.r",
     "varRefreshCmd": "cat(var_dic_list()) "
    }
   },
   "types_to_exclude": [
    "module",
    "function",
    "builtin_function_or_method",
    "instance",
    "_Feature"
   ],
   "window_display": false
  }
 },
 "nbformat": 4,
 "nbformat_minor": 5
}
