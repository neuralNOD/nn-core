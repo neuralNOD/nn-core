{
 "cells": [
  {
   "cell_type": "markdown",
   "metadata": {},
   "source": [
    "<h1 align = \"center\">Boilerplate/Template Design</h1>\n",
    "\n",
    "---\n",
    "\n",
    "\n",
    "**Objective:** The file provides a simple *boilerplate* to concentrate on what is necessary, and stop doing same tasks! The boilerplate is also configured with certain [**nbextensions**](https://gitlab.com/ZenithClown/computer-configurations-and-setups) that I personally use. Install them, if required, else ignore them as they do not participate in any type of code-optimizations. For any new project *edit* this file or `File > Make a Copy` to get started with the project. Some settings and configurations are already provided, as mentioned below."
   ]
  },
  {
   "cell_type": "code",
   "execution_count": 1,
   "metadata": {
    "ExecuteTime": {
     "end_time": "2023-01-12T17:44:01.663014Z",
     "start_time": "2023-01-12T17:44:01.657013Z"
    },
    "deletable": false,
    "editable": false
   },
   "outputs": [
    {
     "name": "stdout",
     "output_type": "stream",
     "text": [
      "Current Code Version: \n"
     ]
    }
   ],
   "source": [
    "# use the code release version for tracking and code modifications. use the\n",
    "# CHANGELOG.md file to keep track of version features, and/or release notes.\n",
    "# the version file is avaiable at project root directory, check the\n",
    "# global configuration setting for root directory information.\n",
    "# the file is already read and is available as `__version__`\n",
    "__version__ = open(\"../VERSION\", \"rt\").read() # bump codecov\n",
    "print(f\"Current Code Version: {__version__}\") # TODO : author, contact"
   ]
  },
  {
   "cell_type": "markdown",
   "metadata": {},
   "source": [
    "## Code Imports\n",
    "\n",
    "A code must be written such that it is always _production ready_. The conventional guidelines provided under [**PEP8**](https://peps.python.org/pep-0008/#imports) defines the conventional or syntactically useful ways of defining and/or manipulating functions. Necessar guidelines w.r.t. code imports are mentioned below, and basic libraries and import settings are defined.\n",
    "\n",
    " 1. Imports should be on separate lines,\n",
    " 2. Import order should be:\n",
    "    * standard library/modules,\n",
    "    * related third party imports,\n",
    "    * local application/user defined imports\n",
    " 3. Wildcard import (`*`) should be avoided, else specifically tagged with **`# noqa: F403`** as per `flake8` or **`# pylint: disable=unused-import`** as per `pylint`\n",
    " 4. Avoid using relative imports; use explicit imports instead."
   ]
  },
  {
   "cell_type": "code",
   "execution_count": 2,
   "metadata": {
    "ExecuteTime": {
     "end_time": "2023-01-12T17:44:01.678014Z",
     "start_time": "2023-01-12T17:44:01.665014Z"
    },
    "deletable": false,
    "editable": false
   },
   "outputs": [],
   "source": [
    "import os   # miscellaneous os interfaces\n",
    "import sys  # configuring python runtime environment\n",
    "import time # library for time manipulation, and logging"
   ]
  },
  {
   "cell_type": "code",
   "execution_count": 3,
   "metadata": {
    "ExecuteTime": {
     "end_time": "2023-01-12T17:44:01.694014Z",
     "start_time": "2023-01-12T17:44:01.681014Z"
    },
    "deletable": false,
    "editable": false
   },
   "outputs": [],
   "source": [
    "# use `datetime` to control and preceive the environment\n",
    "# in addition `pandas` also provides date time functionalities\n",
    "import datetime as dt"
   ]
  },
  {
   "cell_type": "code",
   "execution_count": 19,
   "metadata": {
    "ExecuteTime": {
     "end_time": "2023-01-12T17:51:43.425147Z",
     "start_time": "2023-01-12T17:51:43.410615Z"
    },
    "deletable": false,
    "editable": false
   },
   "outputs": [],
   "source": [
    "from copy import deepcopy      # dataframe is mutable\n",
    "from tqdm import tqdm as TQ    # progress bar for loops\n",
    "# from uuid import uuid4 as UUID # unique identifier for objs"
   ]
  },
  {
   "cell_type": "markdown",
   "metadata": {},
   "source": [
    "[**`logging`**](https://docs.python.org/3/howto/logging.html) is a standard python module that is meant for tracking any events that happen during any software/code operations. This module is super powerful and helpful for code debugging and other purposes. The next section defines a `logging` configuration in **`../logs/`** directory. Modify the **`LOGS_DIR`** variable under *Global Arguments* to change the default directory. The module is configured with a simplistic approach, such that any `print())` statement can be update to `logging.LEVEL_NAME()` and the code will work. Use logging operations like:\n",
    "\n",
    "```python\n",
    " >> logging.debug(\"This is a Debug Message.\")\n",
    " >> logging.info(\"This is a Information Message.\")\n",
    " >> logging.warning(\"This is a Warning Message.\")\n",
    " >> logging.error(\"This is a ERROR Message.\")\n",
    " >> logging.critical(\"This is a CRITICAL Message.\")\n",
    "```\n",
    "\n",
    "Note: some directories related to logging is created by default. This can be updated/changed in the following configuration section."
   ]
  },
  {
   "cell_type": "code",
   "execution_count": null,
   "metadata": {
    "ExecuteTime": {
     "end_time": "2022-05-07T11:55:57.663629Z",
     "start_time": "2022-05-07T11:55:57.657630Z"
    },
    "deletable": false,
    "editable": false,
    "run_control": {
     "frozen": true
    }
   },
   "outputs": [],
   "source": [
    "import logging # configure logging on `global arguments` section, as file path is required"
   ]
  },
  {
   "cell_type": "markdown",
   "metadata": {},
   "source": [
    "### Data Analysis and AI/ML Libraries\n",
    "\n",
    "Import of data analysis and AI/ML libraries required at different intersections. Check settings and configurations [here](https://gitlab.com/ZenithClown/computer-configurations-and-setups) and code snippets [here](https://gitlab.com/ZenithClown/computer-configurations-and-setups/-/tree/master/template/snippets/vscode) for understanding settings that is used in this notebook. The code uses `matplotlib.styles` which is a custom `.mplstyle` file recognised by the `matplotlib` downlodable from [this link](https://gitlab.com/ZenithClown/computer-configurations-and-setups/-/tree/master/settings/python/matplotlib)."
   ]
  },
  {
   "cell_type": "code",
   "execution_count": 5,
   "metadata": {
    "ExecuteTime": {
     "end_time": "2023-01-12T17:44:03.065030Z",
     "start_time": "2023-01-12T17:44:01.713015Z"
    },
    "deletable": false,
    "editable": false
   },
   "outputs": [],
   "source": [
    "import numpy as np\n",
    "import pandas as pd\n",
    "import seaborn as sns\n",
    "import matplotlib.pyplot as plt\n",
    "\n",
    "%precision 3\n",
    "%matplotlib inline\n",
    "sns.set_style('whitegrid');\n",
    "plt.style.use('default-style');\n",
    "\n",
    "pd.set_option('display.max_rows', 50) # max. rows to show\n",
    "pd.set_option('display.max_columns', 15) # max. cols to show\n",
    "np.set_printoptions(precision = 3, threshold = 15) # set np options\n",
    "pd.options.display.float_format = '{:,.2f}'.format # float precisions"
   ]
  },
  {
   "cell_type": "code",
   "execution_count": 33,
   "metadata": {
    "ExecuteTime": {
     "end_time": "2023-01-12T18:04:33.118827Z",
     "start_time": "2023-01-12T18:04:33.053769Z"
    }
   },
   "outputs": [],
   "source": [
    "from sklearn.metrics import (\n",
    "    mean_squared_error as MSE,\n",
    "    mean_absolute_error as MAE\n",
    ")"
   ]
  },
  {
   "cell_type": "code",
   "execution_count": 24,
   "metadata": {
    "ExecuteTime": {
     "end_time": "2023-01-12T17:53:43.754648Z",
     "start_time": "2023-01-12T17:53:43.706034Z"
    },
    "deletable": false,
    "editable": false
   },
   "outputs": [
    {
     "name": "stdout",
     "output_type": "stream",
     "text": [
      "Tensorflow Version: 2.9.0\n",
      "\n",
      "GPU Computing Available. EXPERIMENTAL : {'device_name': 'NVIDIA GeForce GTX 1650', 'compute_capability': (7, 5)}\n"
     ]
    }
   ],
   "source": [
    "import tensorflow as tf\n",
    "print(f\"Tensorflow Version: {tf.__version__}\", end = \"\\n\\n\") # required >= 2.8\n",
    "\n",
    "# check physical devices, and gpu compute capability (if available)\n",
    "if len(tf.config.list_physical_devices(device_type = \"GPU\")):\n",
    "    # https://stackoverflow.com/q/38009682/6623589\n",
    "    # https://stackoverflow.com/a/59179238/6623589\n",
    "    print(\"GPU Computing Available.\", end = \" \")\n",
    "    \n",
    "    # experimentally, get the gpu details and computation power\n",
    "    # https://www.tensorflow.org/api_docs/python/tf/config/experimental/get_device_details\n",
    "    devices = tf.config.list_physical_devices(device_type = \"GPU\")[0] # first\n",
    "    details = tf.config.experimental.get_device_details(devices) # only first\n",
    "    details.get('device_name', 'compute_capability')\n",
    "    print(f\"EXPERIMENTAL : {details}\")\n",
    "else:\n",
    "    print(\"GPU Computing Not Available. If `GPU` is present, check configuration. Detected Devices:\")\n",
    "    print(\"  > \", tf.config.list_physical_devices())"
   ]
  },
  {
   "cell_type": "markdown",
   "metadata": {},
   "source": [
    "### User Defined Function(s)\n",
    "\n",
    "It is recommended that any UDFs are defined outside the scope of the *jupyter notebook* such that development/editing of function can be done more practically. As per *programming guidelines* as [`src`](https://fileinfo.com/extension/src) file/directory is beneficial in code development and/or production release. However, *jupyter notebook* requires *kernel restart* if any imported code file is changed in disc, for this frequently changing functions can be defined in this section.\n",
    "\n",
    "**Getting Started** with **`PYTHONPATH`**\n",
    "\n",
    "One must know what are [Environment Variable](https://medium.com/chingu/an-introduction-to-environment-variables-and-how-to-use-them-f602f66d15fa) and how to call/use them in your choice of programming language. Note that an environment variable is *case sensitive* in all operating systems (except windows, since DOS is not case sensitive). Generally, we can access environment variables from terminal/shell/command prompt as:\n",
    "\n",
    "```shell\n",
    "# macOS/*nix\n",
    "echo $VARNAME\n",
    "\n",
    "# windows\n",
    "echo %VARNAME%\n",
    "```\n",
    "\n",
    "Once you've setup your system with [`PYTHONPATH`](https://bic-berkeley.github.io/psych-214-fall-2016/using_pythonpath.html) as per [*python documentation*](https://docs.python.org/3/using/cmdline.html#envvar-PYTHONPATH) is an important directory where any `import` statements looks for based on their order of importance. If a source code/module is not available check necessary environment variables and/or ask the administrator for the source files. For testing purpose, the module boasts the use of `src`, `utils` and `config` directories. However, these directories are available at `ROOT` level, and thus using `sys.path.append()` to add directories while importing."
   ]
  },
  {
   "cell_type": "code",
   "execution_count": 6,
   "metadata": {
    "ExecuteTime": {
     "end_time": "2023-01-12T17:44:03.080188Z",
     "start_time": "2023-01-12T17:44:03.069026Z"
    },
    "deletable": false,
    "editable": false
   },
   "outputs": [],
   "source": [
    "# append `src` and sub-modules to call additional files these directory are\n",
    "# project specific and not to be added under environment or $PATH variable\n",
    "sys.path.append(os.path.join(\"..\", \"src\")) # parent/source files directory\n",
    "sys.path.append(os.path.join(\"..\", \"src\", \"agents\")) # agents for reinforcement modelling\n",
    "sys.path.append(os.path.join(\"..\", \"src\", \"engine\")) # derivative engines for model control\n",
    "sys.path.append(os.path.join(\"..\", \"src\", \"models\")) # actual models for decision making tools"
   ]
  },
  {
   "cell_type": "code",
   "execution_count": 7,
   "metadata": {
    "ExecuteTime": {
     "end_time": "2023-01-12T17:44:03.096294Z",
     "start_time": "2023-01-12T17:44:03.082275Z"
    },
    "deletable": false,
    "editable": false
   },
   "outputs": [],
   "source": [
    "# also append the `utilities` directory for additional helpful codes\n",
    "sys.path.append(os.path.join(\"..\", \"utilities\"))"
   ]
  },
  {
   "cell_type": "code",
   "execution_count": 8,
   "metadata": {
    "ExecuteTime": {
     "end_time": "2023-01-12T17:44:05.496571Z",
     "start_time": "2023-01-12T17:44:03.098282Z"
    },
    "deletable": false,
    "editable": false
   },
   "outputs": [],
   "source": [
    "from lstm import BareLSTM\n",
    "from scaler import UnivariateRangedScaler"
   ]
  },
  {
   "cell_type": "markdown",
   "metadata": {},
   "source": [
    "## Global Argument(s)\n",
    "\n",
    "The global arguments are *notebook* specific, however they may also be extended to external libraries and functions on import. The *boilerplate* provides a basic ML directory structure which contains a directory for `data` and a separate directory for `output`. In addition, a separate directory (`data/processed`) is created to save processed dataset such that preprocessing can be avoided."
   ]
  },
  {
   "cell_type": "code",
   "execution_count": null,
   "metadata": {
    "ExecuteTime": {
     "end_time": "2022-05-07T12:02:30.668471Z",
     "start_time": "2022-05-07T12:02:30.661377Z"
    },
    "deletable": false,
    "editable": false,
    "run_control": {
     "frozen": true
    }
   },
   "outputs": [],
   "source": [
    "ROOT = \"..\" # the document root is one level up, that contains all code structure\n",
    "DATA = join(ROOT, \"data\") # the directory contains all data files, subdirectory (if any) can also be used/defined\n",
    "\n",
    "# processed data directory can be used, such that preprocessing steps is not\n",
    "# required to run again-and-again each time on kernel restart\n",
    "PROCESSED_DATA = join(DATA, \"processed\")"
   ]
  },
  {
   "cell_type": "code",
   "execution_count": 10,
   "metadata": {
    "ExecuteTime": {
     "end_time": "2023-01-12T17:44:30.521898Z",
     "start_time": "2023-01-12T17:44:30.499938Z"
    }
   },
   "outputs": [
    {
     "name": "stdout",
     "output_type": "stream",
     "text": [
      "Code Execution Started on: Thu, Jan 12 2023\n"
     ]
    }
   ],
   "source": [
    "# long projects can be overwhelming, and keeping track of files, outputs and\n",
    "# saved models can be intriguing! to help this out, `today` can be used. for\n",
    "# instance output can be stored at `output/<today>/` etc.\n",
    "# `today` is so configured that it permits windows/*.nix file/directory names\n",
    "today = dt.datetime.strftime(dt.datetime.strptime(time.ctime(), \"%a %b %d %H:%M:%S %Y\"), \"%a, %b %d %Y\")\n",
    "print(f\"Code Execution Started on: {today}\") # only date, name of the sub-directory"
   ]
  },
  {
   "cell_type": "code",
   "execution_count": 11,
   "metadata": {
    "ExecuteTime": {
     "end_time": "2023-01-12T17:44:39.533084Z",
     "start_time": "2023-01-12T17:44:39.515717Z"
    },
    "deletable": false,
    "editable": false,
    "run_control": {
     "frozen": true
    }
   },
   "outputs": [
    {
     "ename": "NameError",
     "evalue": "name 'ROOT' is not defined",
     "output_type": "error",
     "traceback": [
      "\u001b[1;31m---------------------------------------------------------------------------\u001b[0m",
      "\u001b[1;31mNameError\u001b[0m                                 Traceback (most recent call last)",
      "\u001b[1;32m~\\AppData\\Local\\Temp\\ipykernel_19816\\3525082552.py\u001b[0m in \u001b[0;36m<module>\u001b[1;34m\u001b[0m\n\u001b[1;32m----> 1\u001b[1;33m \u001b[0mOUTPUT_DIR\u001b[0m \u001b[1;33m=\u001b[0m \u001b[0mos\u001b[0m\u001b[1;33m.\u001b[0m\u001b[0mpath\u001b[0m\u001b[1;33m.\u001b[0m\u001b[0mjoin\u001b[0m\u001b[1;33m(\u001b[0m\u001b[0mROOT\u001b[0m\u001b[1;33m,\u001b[0m \u001b[1;34m\"output\"\u001b[0m\u001b[1;33m)\u001b[0m\u001b[1;33m\u001b[0m\u001b[1;33m\u001b[0m\u001b[0m\n\u001b[0m\u001b[0;32m      2\u001b[0m \u001b[1;31m# makedirs(OUTPUT_DIR, exist_ok = True) # create dir if not exist\u001b[0m\u001b[1;33m\u001b[0m\u001b[1;33m\u001b[0m\u001b[0m\n\u001b[0;32m      3\u001b[0m \u001b[1;33m\u001b[0m\u001b[0m\n\u001b[0;32m      4\u001b[0m \u001b[1;31m# also create directory for `logs`\u001b[0m\u001b[1;33m\u001b[0m\u001b[1;33m\u001b[0m\u001b[0m\n\u001b[0;32m      5\u001b[0m \u001b[1;31m# LOGS_DIR = join(ROOT, \"logs\", open(\"../VERSION\", 'rt').read())\u001b[0m\u001b[1;33m\u001b[0m\u001b[1;33m\u001b[0m\u001b[0m\n",
      "\u001b[1;31mNameError\u001b[0m: name 'ROOT' is not defined"
     ]
    }
   ],
   "source": [
    "OUTPUT_DIR = os.path.join(ROOT, \"output\")\n",
    "# makedirs(OUTPUT_DIR, exist_ok = True) # create dir if not exist\n",
    "\n",
    "# also create directory for `logs`\n",
    "# LOGS_DIR = join(ROOT, \"logs\", open(\"../VERSION\", 'rt').read())\n",
    "# makedirs(LOGS_DIR, exist_ok = True)"
   ]
  },
  {
   "cell_type": "code",
   "execution_count": null,
   "metadata": {
    "ExecuteTime": {
     "end_time": "2022-05-07T12:07:35.345557Z",
     "start_time": "2022-05-07T12:07:35.334528Z"
    },
    "deletable": false,
    "editable": false,
    "run_control": {
     "frozen": true
    }
   },
   "outputs": [],
   "source": [
    "logging.basicConfig(\n",
    "    filename = join(LOGS_DIR, f\"{today}.log\"), # change `reports` file name\n",
    "    filemode = \"a\", # append logs to existing file, if file exists\n",
    "    format = \"%(asctime)s - %(name)s - CLASS:%(levelname)s:%(levelno)s:L#%(lineno)d - %(message)s\",\n",
    "    level = logging.DEBUG\n",
    ")"
   ]
  },
  {
   "cell_type": "markdown",
   "metadata": {},
   "source": [
    "## Read Input File(s)\n",
    "\n",
    "A typical machine learning project revolves around six important stages (as available in [Amazon ML Life Cycle Documentation](https://docs.aws.amazon.com/wellarchitected/latest/machine-learning-lens/well-architected-machine-learning-lifecycle.html)). The notebook boilerplate is provided to address two pillars:\n",
    "\n",
    " 1. **Data Processing:** An integral part of any machine learning project, which is the most time consuming step! A brief introduction and best practices is available [here](https://towardsdatascience.com/introduction-to-data-preprocessing-in-machine-learning-a9fa83a5dc9d).\n",
    " 2. **Model Development:** From understanding to deployment, this section address development (training, validating and testing) of an machine learning model.\n",
    "\n",
    "![ML Life Cycle](https://docs.aws.amazon.com/wellarchitected/latest/machine-learning-lens/images/ml-lifecycle.png)"
   ]
  },
  {
   "cell_type": "code",
   "execution_count": 12,
   "metadata": {
    "ExecuteTime": {
     "end_time": "2023-01-12T17:45:56.055205Z",
     "start_time": "2023-01-12T17:45:25.899156Z"
    },
    "deletable": false,
    "editable": false
   },
   "outputs": [
    {
     "data": {
      "text/html": [
       "<div>\n",
       "<style scoped>\n",
       "    .dataframe tbody tr th:only-of-type {\n",
       "        vertical-align: middle;\n",
       "    }\n",
       "\n",
       "    .dataframe tbody tr th {\n",
       "        vertical-align: top;\n",
       "    }\n",
       "\n",
       "    .dataframe thead th {\n",
       "        text-align: right;\n",
       "    }\n",
       "</style>\n",
       "<table border=\"1\" class=\"dataframe\">\n",
       "  <thead>\n",
       "    <tr style=\"text-align: right;\">\n",
       "      <th></th>\n",
       "      <th>EffectiveDate</th>\n",
       "      <th>year</th>\n",
       "      <th>month</th>\n",
       "      <th>day</th>\n",
       "      <th>BlockID</th>\n",
       "      <th>PurchaseBid</th>\n",
       "      <th>SellBid</th>\n",
       "      <th>MCV</th>\n",
       "      <th>MCP</th>\n",
       "    </tr>\n",
       "  </thead>\n",
       "  <tbody>\n",
       "    <tr>\n",
       "      <th>193442</th>\n",
       "      <td>2017-10-08</td>\n",
       "      <td>2017</td>\n",
       "      <td>10</td>\n",
       "      <td>8</td>\n",
       "      <td>3</td>\n",
       "      <td>11,069.80</td>\n",
       "      <td>7,275.80</td>\n",
       "      <td>7,045.20</td>\n",
       "      <td>6,109.31</td>\n",
       "    </tr>\n",
       "  </tbody>\n",
       "</table>\n",
       "</div>"
      ],
      "text/plain": [
       "       EffectiveDate  year  month  day  BlockID  PurchaseBid  SellBid  \\\n",
       "193442    2017-10-08  2017     10    8        3    11,069.80 7,275.80   \n",
       "\n",
       "            MCV      MCP  \n",
       "193442 7,045.20 6,109.31  "
      ]
     },
     "execution_count": 12,
     "metadata": {},
     "output_type": "execute_result"
    }
   ],
   "source": [
    "MARKET_SNAPSHOT_FILE_PATH = r\"E:\\database\\Indian Energy Exchange\\Market Data - Day Ahead Market (DAM)\\PROCESSED_MarketSnapshot_01-04-2012_31-12-2022.xlsx\"\n",
    "market_snapshot = pd.read_excel(MARKET_SNAPSHOT_FILE_PATH, sheet_name = \"MarketSnapshot\")\n",
    "market_snapshot[\"EffectiveDate\"] = pd.to_datetime(market_snapshot[\"EffectiveDate\"], format = \"%Y-%m-%d\")\n",
    "\n",
    "# already known that 01-08-2012 data records are missing from data source, and\n",
    "# this is a very old record, thus just copy paste the previous days records\n",
    "missing_records = deepcopy(market_snapshot[market_snapshot[\"EffectiveDate\"] == dt.datetime(year = 2022, month = 7, day = 31)])\n",
    "missing_records[\"EffectiveDate\"] = pd.Timestamp(year = 2022, month = 7, day = 31)\n",
    "\n",
    "market_snapshot = pd.concat([market_snapshot, missing_records], ignore_index = True)\n",
    "market_snapshot.sort_values(by = [\"EffectiveDate\", \"BlockID\"], inplace = True)\n",
    "\n",
    "# insert additional columns like year, month and day\n",
    "market_snapshot[\"year\"], market_snapshot[\"month\"], market_snapshot[\"day\"] = zip(*market_snapshot[\"EffectiveDate\"].apply(lambda x : (x.year, x.month, x.day)))\n",
    "market_snapshot = market_snapshot[[\"EffectiveDate\", \"year\", \"month\", \"day\", \"BlockID\", \"PurchaseBid\", \"SellBid\", \"MCV\", \"MCP\"]]\n",
    "\n",
    "market_snapshot.sample()"
   ]
  },
  {
   "cell_type": "code",
   "execution_count": 13,
   "metadata": {
    "ExecuteTime": {
     "end_time": "2023-01-12T17:45:58.419968Z",
     "start_time": "2023-01-12T17:45:58.369015Z"
    },
    "deletable": false,
    "editable": false
   },
   "outputs": [
    {
     "data": {
      "text/html": [
       "<div>\n",
       "<style scoped>\n",
       "    .dataframe tbody tr th:only-of-type {\n",
       "        vertical-align: middle;\n",
       "    }\n",
       "\n",
       "    .dataframe tbody tr th {\n",
       "        vertical-align: top;\n",
       "    }\n",
       "\n",
       "    .dataframe thead th {\n",
       "        text-align: right;\n",
       "    }\n",
       "</style>\n",
       "<table border=\"1\" class=\"dataframe\">\n",
       "  <thead>\n",
       "    <tr style=\"text-align: right;\">\n",
       "      <th></th>\n",
       "      <th>EffectiveDate</th>\n",
       "      <th>year</th>\n",
       "      <th>month</th>\n",
       "      <th>day</th>\n",
       "      <th>BlockID</th>\n",
       "      <th>PurchaseBid</th>\n",
       "      <th>SellBid</th>\n",
       "      <th>MCV</th>\n",
       "      <th>MCP</th>\n",
       "      <th>MCP_</th>\n",
       "    </tr>\n",
       "  </thead>\n",
       "  <tbody>\n",
       "    <tr>\n",
       "      <th>116994</th>\n",
       "      <td>2015-08-03</td>\n",
       "      <td>2015</td>\n",
       "      <td>8</td>\n",
       "      <td>3</td>\n",
       "      <td>67</td>\n",
       "      <td>4,579.90</td>\n",
       "      <td>6,666.60</td>\n",
       "      <td>3,882.50</td>\n",
       "      <td>2,549.06</td>\n",
       "      <td>1.12</td>\n",
       "    </tr>\n",
       "  </tbody>\n",
       "</table>\n",
       "</div>"
      ],
      "text/plain": [
       "       EffectiveDate  year  month  day  BlockID  PurchaseBid  SellBid  \\\n",
       "116994    2015-08-03  2015      8    3       67     4,579.90 6,666.60   \n",
       "\n",
       "            MCV      MCP  MCP_  \n",
       "116994 3,882.50 2,549.06  1.12  "
      ]
     },
     "execution_count": 13,
     "metadata": {},
     "output_type": "execute_result"
    }
   ],
   "source": [
    "scaler0 = UnivariateRangedScaler(x_min = 0.10 * 1e3, x_max = 20.00 * 1e3, feature_range = (1, 2))\n",
    "mcp_values_0 = market_snapshot[market_snapshot[\"EffectiveDate\"] <= dt.datetime(year = 2022, month = 4, day = 3)][\"MCP\"].values\n",
    "sc_mcp_values_0 = scaler0.fit_transform(mcp_values_0)\n",
    "\n",
    "scaler1 = UnivariateRangedScaler(x_min = 0.10 * 1e3, x_max = 12.00 * 1e3, feature_range = (1, 2))\n",
    "mcp_values_1 = market_snapshot[market_snapshot[\"EffectiveDate\"] >= dt.datetime(year = 2022, month = 4, day = 4)][\"MCP\"].values\n",
    "sc_mcp_values_1 = scaler1.fit_transform(mcp_values_1)\n",
    "\n",
    "market_snapshot[\"MCP_\"] = np.concatenate((sc_mcp_values_0, sc_mcp_values_1))\n",
    "market_snapshot.sample()"
   ]
  },
  {
   "cell_type": "markdown",
   "metadata": {},
   "source": [
    "Let's test model building by taking **5 days** of data."
   ]
  },
  {
   "cell_type": "code",
   "execution_count": 17,
   "metadata": {
    "ExecuteTime": {
     "end_time": "2023-01-12T17:50:30.975136Z",
     "start_time": "2023-01-12T17:50:30.962177Z"
    }
   },
   "outputs": [
    {
     "data": {
      "text/plain": [
       "(960, 10)"
      ]
     },
     "execution_count": 17,
     "metadata": {},
     "output_type": "execute_result"
    }
   ],
   "source": [
    "data = market_snapshot[\n",
    "    (market_snapshot[\"EffectiveDate\"] >= dt.datetime(year = 2012, month = 4, day = 1)) &\n",
    "    (market_snapshot[\"EffectiveDate\"] <= dt.datetime(year = 2012, month = 4, day = 10))\n",
    "]\n",
    "\n",
    "data.shape # 10 * 96"
   ]
  },
  {
   "cell_type": "code",
   "execution_count": 22,
   "metadata": {
    "ExecuteTime": {
     "end_time": "2023-01-12T17:53:08.038299Z",
     "start_time": "2023-01-12T17:53:08.024453Z"
    }
   },
   "outputs": [
    {
     "name": "stderr",
     "output_type": "stream",
     "text": [
      "100%|███████████████████████████████████████████████████████████████████████████████████████████████████████████████████████████████████████████████████████████████████████████████████| 672/672 [00:00<?, ?it/s]\n"
     ]
    },
    {
     "data": {
      "text/plain": [
       "((672, 288, 1), (672,))"
      ]
     },
     "execution_count": 22,
     "metadata": {},
     "output_type": "execute_result"
    }
   ],
   "source": [
    "mcp = data.MCP_.values # 960 records\n",
    "\n",
    "n_past = 3 * 96\n",
    "n_feat = 1 # working with univariate\n",
    "\n",
    "x_train, y_train = [], []\n",
    "for idx in TQ(range(n_past, mcp.shape[0])):\n",
    "    x_train.append(mcp[idx - n_past : idx])\n",
    "    y_train.append(mcp[idx])\n",
    "    \n",
    "x_train = np.array(x_train)\n",
    "x_train = x_train.reshape(*x_train.shape, n_feat)\n",
    "\n",
    "y_train = np.array(y_train)\n",
    "x_train.shape, y_train.shape"
   ]
  },
  {
   "cell_type": "code",
   "execution_count": 25,
   "metadata": {
    "ExecuteTime": {
     "end_time": "2023-01-12T17:53:56.241416Z",
     "start_time": "2023-01-12T17:53:56.234416Z"
    }
   },
   "outputs": [],
   "source": [
    "# nural network parameters\n",
    "ACTIVATION_FUNCTION = \"relu\"\n",
    "L2_KERNEL_REGULARIZER = None # tf.keras.regularizers.l2(5e-7)\n",
    "\n",
    "# model tuning parameters\n",
    "LR_START = 1e-3\n",
    "LR_FINAL = 2e-4\n",
    "NUM_EPOCHS = 100\n",
    "BATCH_SIZE = 1024\n",
    "\n",
    "LR_FUNC = tf.keras.callbacks.ReduceLROnPlateau(monitor = \"val_loss\", factor = 0.5, patience = 4)\n",
    "ES_FUNC = tf.keras.callbacks.EarlyStopping(monitor = \"val_loss\", patience = 12, min_delta = 0.001, restore_best_weights = True)\n",
    "TM_FUNC = tf.keras.callbacks.TerminateOnNaN()\n",
    "\n",
    "# define the callbacks for model\n",
    "callbacks = [\n",
    "    # LR_FUNC, # learning rate\n",
    "    ES_FUNC, # early stopping of model training\n",
    "    # TM_FUNC  # terminate model training on null value\n",
    "]"
   ]
  },
  {
   "cell_type": "code",
   "execution_count": 26,
   "metadata": {
    "ExecuteTime": {
     "end_time": "2023-01-12T17:56:25.748677Z",
     "start_time": "2023-01-12T17:56:24.139123Z"
    },
    "collapsed": true
   },
   "outputs": [
    {
     "name": "stdout",
     "output_type": "stream",
     "text": [
      "WARNING:tensorflow:Layer iLayer will not use cuDNN kernels since it doesn't meet the criteria. It will use a generic GPU kernel as fallback when running on GPU.\n",
      "WARNING:tensorflow:Layer HL-1 will not use cuDNN kernels since it doesn't meet the criteria. It will use a generic GPU kernel as fallback when running on GPU.\n",
      "Model: \"BareLSTM-1.0.0\"\n",
      "_______________________________________________________________________________________________________________________________\n",
      " Layer (type)                                            Output Shape                                      Param #             \n",
      "===============================================================================================================================\n",
      " iLayer (LSTM)                                           (None, 288, 64)                                   16896               \n",
      "                                                                                                                               \n",
      " HL-1 (LSTM)                                             (None, 32)                                        12416               \n",
      "                                                                                                                               \n",
      " HL-D1 (Dropout)                                         (None, 32)                                        0                   \n",
      "                                                                                                                               \n",
      " oLayer (Dense)                                          (None, 1)                                         33                  \n",
      "                                                                                                                               \n",
      "===============================================================================================================================\n",
      "Total params: 29,345\n",
      "Trainable params: 29,345\n",
      "Non-trainable params: 0\n",
      "_______________________________________________________________________________________________________________________________\n"
     ]
    }
   ],
   "source": [
    "netwk = BareLSTM(input_shape = (x_train.shape[1], x_train.shape[2]), output_shape = 1, activation = ACTIVATION_FUNCTION)\n",
    "model = netwk.get_2_layer_lstm()\n",
    "model.summary(line_length = 127)"
   ]
  },
  {
   "cell_type": "code",
   "execution_count": 27,
   "metadata": {
    "ExecuteTime": {
     "end_time": "2023-01-12T17:56:36.432013Z",
     "start_time": "2023-01-12T17:56:36.401992Z"
    }
   },
   "outputs": [],
   "source": [
    "model.compile(\n",
    "    optimizer = tf.keras.optimizers.Adam(learning_rate = LR_START, amsgrad = True),\n",
    "    loss = tf.keras.losses.MeanSquaredError(name = \"loss\"),\n",
    "    metrics = [tf.keras.metrics.RootMeanSquaredError(name = \"RMSE\"), tf.keras.metrics.MeanAbsoluteError(name = \"MAE\")]\n",
    ")"
   ]
  },
  {
   "cell_type": "code",
   "execution_count": 28,
   "metadata": {
    "ExecuteTime": {
     "end_time": "2023-01-12T18:00:49.298530Z",
     "start_time": "2023-01-12T17:56:49.201558Z"
    },
    "collapsed": true
   },
   "outputs": [
    {
     "name": "stdout",
     "output_type": "stream",
     "text": [
      "Epoch 1/100\n",
      "1/1 [==============================] - 8s 8s/step - loss: 1.5129 - RMSE: 1.2300 - MAE: 1.2295 - val_loss: 1.4252 - val_RMSE: 1.1938 - val_MAE: 1.1938\n",
      "Epoch 2/100\n",
      "1/1 [==============================] - 3s 3s/step - loss: 1.4212 - RMSE: 1.1921 - MAE: 1.1917 - val_loss: 1.3468 - val_RMSE: 1.1605 - val_MAE: 1.1605\n",
      "Epoch 3/100\n",
      "1/1 [==============================] - 4s 4s/step - loss: 1.3445 - RMSE: 1.1595 - MAE: 1.1591 - val_loss: 1.2767 - val_RMSE: 1.1299 - val_MAE: 1.1299\n",
      "Epoch 4/100\n",
      "1/1 [==============================] - 4s 4s/step - loss: 1.2739 - RMSE: 1.1287 - MAE: 1.1282 - val_loss: 1.2210 - val_RMSE: 1.1050 - val_MAE: 1.1050\n",
      "Epoch 5/100\n",
      "1/1 [==============================] - 3s 3s/step - loss: 1.2192 - RMSE: 1.1042 - MAE: 1.1037 - val_loss: 1.1755 - val_RMSE: 1.0842 - val_MAE: 1.0842\n",
      "Epoch 6/100\n",
      "1/1 [==============================] - 3s 3s/step - loss: 1.1729 - RMSE: 1.0830 - MAE: 1.0824 - val_loss: 1.1314 - val_RMSE: 1.0637 - val_MAE: 1.0636\n",
      "Epoch 7/100\n",
      "1/1 [==============================] - 3s 3s/step - loss: 1.1305 - RMSE: 1.0633 - MAE: 1.0626 - val_loss: 1.0879 - val_RMSE: 1.0430 - val_MAE: 1.0430\n",
      "Epoch 8/100\n",
      "1/1 [==============================] - 3s 3s/step - loss: 1.0846 - RMSE: 1.0415 - MAE: 1.0406 - val_loss: 1.0418 - val_RMSE: 1.0207 - val_MAE: 1.0207\n",
      "Epoch 9/100\n",
      "1/1 [==============================] - 3s 3s/step - loss: 1.0397 - RMSE: 1.0196 - MAE: 1.0187 - val_loss: 0.9924 - val_RMSE: 0.9962 - val_MAE: 0.9962\n",
      "Epoch 10/100\n",
      "1/1 [==============================] - 2s 2s/step - loss: 0.9946 - RMSE: 0.9973 - MAE: 0.9960 - val_loss: 0.9341 - val_RMSE: 0.9665 - val_MAE: 0.9665\n",
      "Epoch 11/100\n",
      "1/1 [==============================] - 2s 2s/step - loss: 0.9415 - RMSE: 0.9703 - MAE: 0.9686 - val_loss: 0.8581 - val_RMSE: 0.9263 - val_MAE: 0.9263\n",
      "Epoch 12/100\n",
      "1/1 [==============================] - 2s 2s/step - loss: 0.8651 - RMSE: 0.9301 - MAE: 0.9278 - val_loss: 0.7751 - val_RMSE: 0.8804 - val_MAE: 0.8803\n",
      "Epoch 13/100\n",
      "1/1 [==============================] - 2s 2s/step - loss: 0.7724 - RMSE: 0.8788 - MAE: 0.8761 - val_loss: 0.6815 - val_RMSE: 0.8256 - val_MAE: 0.8255\n",
      "Epoch 14/100\n",
      "1/1 [==============================] - 2s 2s/step - loss: 0.6832 - RMSE: 0.8265 - MAE: 0.8223 - val_loss: 0.5753 - val_RMSE: 0.7585 - val_MAE: 0.7584\n",
      "Epoch 15/100\n",
      "1/1 [==============================] - 2s 2s/step - loss: 0.5789 - RMSE: 0.7608 - MAE: 0.7548 - val_loss: 0.4509 - val_RMSE: 0.6715 - val_MAE: 0.6714\n",
      "Epoch 16/100\n",
      "1/1 [==============================] - 2s 2s/step - loss: 0.4648 - RMSE: 0.6817 - MAE: 0.6705 - val_loss: 0.3029 - val_RMSE: 0.5504 - val_MAE: 0.5503\n",
      "Epoch 17/100\n",
      "1/1 [==============================] - 2s 2s/step - loss: 0.3213 - RMSE: 0.5668 - MAE: 0.5475 - val_loss: 0.1277 - val_RMSE: 0.3574 - val_MAE: 0.3571\n",
      "Epoch 18/100\n",
      "1/1 [==============================] - 2s 2s/step - loss: 0.1657 - RMSE: 0.4071 - MAE: 0.3523 - val_loss: 0.0027 - val_RMSE: 0.0523 - val_MAE: 0.0462\n",
      "Epoch 19/100\n",
      "1/1 [==============================] - 2s 2s/step - loss: 0.1120 - RMSE: 0.3347 - MAE: 0.2925 - val_loss: 0.0787 - val_RMSE: 0.2805 - val_MAE: 0.2785\n",
      "Epoch 20/100\n",
      "1/1 [==============================] - 2s 2s/step - loss: 0.3040 - RMSE: 0.5514 - MAE: 0.4817 - val_loss: 6.7892e-04 - val_RMSE: 0.0261 - val_MAE: 0.0187\n",
      "Epoch 21/100\n",
      "1/1 [==============================] - 2s 2s/step - loss: 0.0932 - RMSE: 0.3053 - MAE: 0.2660 - val_loss: 0.0207 - val_RMSE: 0.1438 - val_MAE: 0.1428\n",
      "Epoch 22/100\n",
      "1/1 [==============================] - 2s 2s/step - loss: 0.0832 - RMSE: 0.2885 - MAE: 0.2101 - val_loss: 0.0562 - val_RMSE: 0.2372 - val_MAE: 0.2367\n",
      "Epoch 23/100\n",
      "1/1 [==============================] - 2s 2s/step - loss: 0.1035 - RMSE: 0.3217 - MAE: 0.2261 - val_loss: 0.0868 - val_RMSE: 0.2946 - val_MAE: 0.2944\n",
      "Epoch 24/100\n",
      "1/1 [==============================] - 2s 2s/step - loss: 0.1229 - RMSE: 0.3505 - MAE: 0.2753 - val_loss: 0.1083 - val_RMSE: 0.3291 - val_MAE: 0.3289\n",
      "Epoch 25/100\n",
      "1/1 [==============================] - 2s 2s/step - loss: 0.1615 - RMSE: 0.4019 - MAE: 0.3402 - val_loss: 0.1199 - val_RMSE: 0.3463 - val_MAE: 0.3461\n",
      "Epoch 26/100\n",
      "1/1 [==============================] - 3s 3s/step - loss: 0.1663 - RMSE: 0.4078 - MAE: 0.3527 - val_loss: 0.1228 - val_RMSE: 0.3505 - val_MAE: 0.3503\n",
      "Epoch 27/100\n",
      "1/1 [==============================] - 2s 2s/step - loss: 0.1544 - RMSE: 0.3929 - MAE: 0.3442 - val_loss: 0.1185 - val_RMSE: 0.3442 - val_MAE: 0.3440\n",
      "Epoch 28/100\n",
      "1/1 [==============================] - 2s 2s/step - loss: 0.1451 - RMSE: 0.3810 - MAE: 0.3291 - val_loss: 0.1087 - val_RMSE: 0.3297 - val_MAE: 0.3295\n",
      "Epoch 29/100\n",
      "1/1 [==============================] - 2s 2s/step - loss: 0.1514 - RMSE: 0.3890 - MAE: 0.3319 - val_loss: 0.0945 - val_RMSE: 0.3074 - val_MAE: 0.3072\n",
      "Epoch 30/100\n",
      "1/1 [==============================] - 2s 2s/step - loss: 0.1253 - RMSE: 0.3539 - MAE: 0.2934 - val_loss: 0.0774 - val_RMSE: 0.2783 - val_MAE: 0.2780\n",
      "Epoch 31/100\n",
      "1/1 [==============================] - 2s 2s/step - loss: 0.1120 - RMSE: 0.3347 - MAE: 0.2675 - val_loss: 0.0587 - val_RMSE: 0.2422 - val_MAE: 0.2419\n",
      "Epoch 32/100\n",
      "1/1 [==============================] - 2s 2s/step - loss: 0.0925 - RMSE: 0.3041 - MAE: 0.2279 - val_loss: 0.0398 - val_RMSE: 0.1995 - val_MAE: 0.1991\n",
      "Epoch 33/100\n",
      "1/1 [==============================] - 2s 2s/step - loss: 0.0852 - RMSE: 0.2919 - MAE: 0.2030 - val_loss: 0.0230 - val_RMSE: 0.1518 - val_MAE: 0.1512\n",
      "Epoch 34/100\n",
      "1/1 [==============================] - 2s 2s/step - loss: 0.0875 - RMSE: 0.2957 - MAE: 0.2112 - val_loss: 0.0101 - val_RMSE: 0.1003 - val_MAE: 0.0994\n",
      "Epoch 35/100\n",
      "1/1 [==============================] - 2s 2s/step - loss: 0.0731 - RMSE: 0.2703 - MAE: 0.2085 - val_loss: 0.0023 - val_RMSE: 0.0484 - val_MAE: 0.0462\n",
      "Epoch 36/100\n",
      "1/1 [==============================] - 2s 2s/step - loss: 0.0760 - RMSE: 0.2757 - MAE: 0.2212 - val_loss: 2.4155e-04 - val_RMSE: 0.0155 - val_MAE: 0.0111\n",
      "Epoch 37/100\n",
      "1/1 [==============================] - 3s 3s/step - loss: 0.0770 - RMSE: 0.2776 - MAE: 0.2389 - val_loss: 0.0021 - val_RMSE: 0.0458 - val_MAE: 0.0430\n",
      "Epoch 38/100\n",
      "1/1 [==============================] - 2s 2s/step - loss: 0.0841 - RMSE: 0.2900 - MAE: 0.2548 - val_loss: 0.0044 - val_RMSE: 0.0663 - val_MAE: 0.0644\n",
      "Epoch 39/100\n",
      "1/1 [==============================] - 2s 2s/step - loss: 0.0859 - RMSE: 0.2930 - MAE: 0.2567 - val_loss: 0.0048 - val_RMSE: 0.0693 - val_MAE: 0.0675\n",
      "Epoch 40/100\n",
      "1/1 [==============================] - 2s 2s/step - loss: 0.0935 - RMSE: 0.3057 - MAE: 0.2661 - val_loss: 0.0031 - val_RMSE: 0.0556 - val_MAE: 0.0534\n",
      "Epoch 41/100\n",
      "1/1 [==============================] - 2s 2s/step - loss: 0.0852 - RMSE: 0.2919 - MAE: 0.2571 - val_loss: 8.4628e-04 - val_RMSE: 0.0291 - val_MAE: 0.0249\n",
      "Epoch 42/100\n",
      "1/1 [==============================] - 2s 2s/step - loss: 0.0758 - RMSE: 0.2752 - MAE: 0.2356 - val_loss: 3.1568e-04 - val_RMSE: 0.0178 - val_MAE: 0.0170\n",
      "Epoch 43/100\n",
      "1/1 [==============================] - 2s 2s/step - loss: 0.0819 - RMSE: 0.2862 - MAE: 0.2387 - val_loss: 0.0023 - val_RMSE: 0.0477 - val_MAE: 0.0457\n",
      "Epoch 44/100\n",
      "1/1 [==============================] - 2s 2s/step - loss: 0.0667 - RMSE: 0.2584 - MAE: 0.2140 - val_loss: 0.0063 - val_RMSE: 0.0794 - val_MAE: 0.0782\n",
      "Epoch 45/100\n",
      "1/1 [==============================] - 2s 2s/step - loss: 0.0717 - RMSE: 0.2677 - MAE: 0.2126 - val_loss: 0.0112 - val_RMSE: 0.1058 - val_MAE: 0.1050\n",
      "Epoch 46/100\n",
      "1/1 [==============================] - 2s 2s/step - loss: 0.0688 - RMSE: 0.2624 - MAE: 0.2033 - val_loss: 0.0157 - val_RMSE: 0.1255 - val_MAE: 0.1248\n",
      "Epoch 47/100\n",
      "1/1 [==============================] - 2s 2s/step - loss: 0.0710 - RMSE: 0.2664 - MAE: 0.1987 - val_loss: 0.0190 - val_RMSE: 0.1380 - val_MAE: 0.1374\n",
      "Epoch 48/100\n",
      "1/1 [==============================] - 2s 2s/step - loss: 0.0722 - RMSE: 0.2688 - MAE: 0.1957 - val_loss: 0.0207 - val_RMSE: 0.1440 - val_MAE: 0.1435\n",
      "Epoch 49/100\n",
      "1/1 [==============================] - 2s 2s/step - loss: 0.0739 - RMSE: 0.2718 - MAE: 0.2018 - val_loss: 0.0206 - val_RMSE: 0.1436 - val_MAE: 0.1430\n",
      "Epoch 50/100\n",
      "1/1 [==============================] - 2s 2s/step - loss: 0.0652 - RMSE: 0.2554 - MAE: 0.1868 - val_loss: 0.0191 - val_RMSE: 0.1381 - val_MAE: 0.1376\n",
      "Epoch 51/100\n"
     ]
    },
    {
     "name": "stdout",
     "output_type": "stream",
     "text": [
      "1/1 [==============================] - 2s 2s/step - loss: 0.0675 - RMSE: 0.2598 - MAE: 0.1911 - val_loss: 0.0165 - val_RMSE: 0.1284 - val_MAE: 0.1277\n",
      "Epoch 52/100\n",
      "1/1 [==============================] - 2s 2s/step - loss: 0.0734 - RMSE: 0.2709 - MAE: 0.1997 - val_loss: 0.0131 - val_RMSE: 0.1146 - val_MAE: 0.1139\n",
      "Epoch 53/100\n",
      "1/1 [==============================] - 2s 2s/step - loss: 0.0675 - RMSE: 0.2597 - MAE: 0.2005 - val_loss: 0.0096 - val_RMSE: 0.0979 - val_MAE: 0.0971\n",
      "Epoch 54/100\n",
      "1/1 [==============================] - 2s 2s/step - loss: 0.0634 - RMSE: 0.2519 - MAE: 0.1905 - val_loss: 0.0064 - val_RMSE: 0.0802 - val_MAE: 0.0792\n",
      "Epoch 55/100\n",
      "1/1 [==============================] - 2s 2s/step - loss: 0.0573 - RMSE: 0.2395 - MAE: 0.1940 - val_loss: 0.0040 - val_RMSE: 0.0636 - val_MAE: 0.0622\n",
      "Epoch 56/100\n",
      "1/1 [==============================] - 2s 2s/step - loss: 0.0623 - RMSE: 0.2496 - MAE: 0.1994 - val_loss: 0.0024 - val_RMSE: 0.0492 - val_MAE: 0.0473\n",
      "Epoch 57/100\n",
      "1/1 [==============================] - 2s 2s/step - loss: 0.0668 - RMSE: 0.2584 - MAE: 0.2141 - val_loss: 0.0014 - val_RMSE: 0.0377 - val_MAE: 0.0352\n",
      "Epoch 58/100\n",
      "1/1 [==============================] - 2s 2s/step - loss: 0.0697 - RMSE: 0.2640 - MAE: 0.2177 - val_loss: 8.8718e-04 - val_RMSE: 0.0298 - val_MAE: 0.0265\n",
      "Epoch 59/100\n",
      "1/1 [==============================] - 2s 2s/step - loss: 0.0621 - RMSE: 0.2492 - MAE: 0.2032 - val_loss: 7.0725e-04 - val_RMSE: 0.0266 - val_MAE: 0.0234\n",
      "Epoch 60/100\n",
      "1/1 [==============================] - 2s 2s/step - loss: 0.0634 - RMSE: 0.2518 - MAE: 0.2075 - val_loss: 7.2950e-04 - val_RMSE: 0.0270 - val_MAE: 0.0238\n",
      "Epoch 61/100\n",
      "1/1 [==============================] - 2s 2s/step - loss: 0.0632 - RMSE: 0.2513 - MAE: 0.2079 - val_loss: 9.7469e-04 - val_RMSE: 0.0312 - val_MAE: 0.0282\n",
      "Epoch 62/100\n",
      "1/1 [==============================] - 2s 2s/step - loss: 0.0650 - RMSE: 0.2549 - MAE: 0.2095 - val_loss: 0.0014 - val_RMSE: 0.0375 - val_MAE: 0.0350\n",
      "Epoch 63/100\n",
      "1/1 [==============================] - 2s 2s/step - loss: 0.0645 - RMSE: 0.2541 - MAE: 0.2061 - val_loss: 0.0022 - val_RMSE: 0.0464 - val_MAE: 0.0444\n",
      "Epoch 64/100\n",
      "1/1 [==============================] - 3s 3s/step - loss: 0.0676 - RMSE: 0.2600 - MAE: 0.2060 - val_loss: 0.0031 - val_RMSE: 0.0560 - val_MAE: 0.0544\n",
      "Epoch 65/100\n",
      "1/1 [==============================] - 2s 2s/step - loss: 0.0636 - RMSE: 0.2523 - MAE: 0.2013 - val_loss: 0.0042 - val_RMSE: 0.0651 - val_MAE: 0.0638\n",
      "Epoch 66/100\n",
      "1/1 [==============================] - 2s 2s/step - loss: 0.0668 - RMSE: 0.2584 - MAE: 0.2057 - val_loss: 0.0053 - val_RMSE: 0.0725 - val_MAE: 0.0714\n",
      "Epoch 67/100\n",
      "1/1 [==============================] - 3s 3s/step - loss: 0.0648 - RMSE: 0.2546 - MAE: 0.2064 - val_loss: 0.0060 - val_RMSE: 0.0778 - val_MAE: 0.0767\n",
      "Epoch 68/100\n",
      "1/1 [==============================] - 2s 2s/step - loss: 0.0575 - RMSE: 0.2399 - MAE: 0.1898 - val_loss: 0.0065 - val_RMSE: 0.0808 - val_MAE: 0.0797\n",
      "Epoch 69/100\n",
      "1/1 [==============================] - 2s 2s/step - loss: 0.0630 - RMSE: 0.2511 - MAE: 0.1937 - val_loss: 0.0069 - val_RMSE: 0.0828 - val_MAE: 0.0818\n",
      "Epoch 70/100\n",
      "1/1 [==============================] - 2s 2s/step - loss: 0.0620 - RMSE: 0.2489 - MAE: 0.1952 - val_loss: 0.0067 - val_RMSE: 0.0821 - val_MAE: 0.0811\n",
      "Epoch 71/100\n",
      "1/1 [==============================] - 2s 2s/step - loss: 0.0612 - RMSE: 0.2473 - MAE: 0.1952 - val_loss: 0.0063 - val_RMSE: 0.0792 - val_MAE: 0.0781\n",
      "Epoch 72/100\n",
      "1/1 [==============================] - 2s 2s/step - loss: 0.0582 - RMSE: 0.2413 - MAE: 0.1875 - val_loss: 0.0056 - val_RMSE: 0.0747 - val_MAE: 0.0736\n",
      "Epoch 73/100\n",
      "1/1 [==============================] - 2s 2s/step - loss: 0.0579 - RMSE: 0.2406 - MAE: 0.1925 - val_loss: 0.0050 - val_RMSE: 0.0706 - val_MAE: 0.0694\n",
      "Epoch 74/100\n",
      "1/1 [==============================] - 2s 2s/step - loss: 0.0539 - RMSE: 0.2321 - MAE: 0.1833 - val_loss: 0.0044 - val_RMSE: 0.0662 - val_MAE: 0.0648\n",
      "Epoch 75/100\n",
      "1/1 [==============================] - 2s 2s/step - loss: 0.0579 - RMSE: 0.2406 - MAE: 0.1927 - val_loss: 0.0038 - val_RMSE: 0.0620 - val_MAE: 0.0606\n",
      "Epoch 76/100\n",
      "1/1 [==============================] - 2s 2s/step - loss: 0.0561 - RMSE: 0.2369 - MAE: 0.1888 - val_loss: 0.0033 - val_RMSE: 0.0574 - val_MAE: 0.0559\n",
      "Epoch 77/100\n",
      "1/1 [==============================] - 2s 2s/step - loss: 0.0602 - RMSE: 0.2454 - MAE: 0.1982 - val_loss: 0.0030 - val_RMSE: 0.0544 - val_MAE: 0.0527\n",
      "Epoch 78/100\n",
      "1/1 [==============================] - 2s 2s/step - loss: 0.0576 - RMSE: 0.2400 - MAE: 0.1940 - val_loss: 0.0029 - val_RMSE: 0.0538 - val_MAE: 0.0521\n",
      "Epoch 79/100\n",
      "1/1 [==============================] - 2s 2s/step - loss: 0.0624 - RMSE: 0.2499 - MAE: 0.2014 - val_loss: 0.0029 - val_RMSE: 0.0541 - val_MAE: 0.0525\n",
      "Epoch 80/100\n",
      "1/1 [==============================] - 2s 2s/step - loss: 0.0610 - RMSE: 0.2470 - MAE: 0.1984 - val_loss: 0.0030 - val_RMSE: 0.0551 - val_MAE: 0.0535\n",
      "Epoch 81/100\n",
      "1/1 [==============================] - 2s 2s/step - loss: 0.0584 - RMSE: 0.2417 - MAE: 0.2005 - val_loss: 0.0033 - val_RMSE: 0.0572 - val_MAE: 0.0557\n",
      "Epoch 82/100\n",
      "1/1 [==============================] - 2s 2s/step - loss: 0.0591 - RMSE: 0.2431 - MAE: 0.1935 - val_loss: 0.0033 - val_RMSE: 0.0578 - val_MAE: 0.0563\n",
      "Epoch 83/100\n",
      "1/1 [==============================] - 2s 2s/step - loss: 0.0545 - RMSE: 0.2334 - MAE: 0.1890 - val_loss: 0.0035 - val_RMSE: 0.0595 - val_MAE: 0.0580\n",
      "Epoch 84/100\n",
      "1/1 [==============================] - 2s 2s/step - loss: 0.0542 - RMSE: 0.2328 - MAE: 0.1881 - val_loss: 0.0038 - val_RMSE: 0.0618 - val_MAE: 0.0604\n",
      "Epoch 85/100\n",
      "1/1 [==============================] - 2s 2s/step - loss: 0.0538 - RMSE: 0.2319 - MAE: 0.1814 - val_loss: 0.0041 - val_RMSE: 0.0642 - val_MAE: 0.0628\n",
      "Epoch 86/100\n",
      "1/1 [==============================] - 2s 2s/step - loss: 0.0566 - RMSE: 0.2378 - MAE: 0.1858 - val_loss: 0.0044 - val_RMSE: 0.0666 - val_MAE: 0.0654\n",
      "Epoch 87/100\n",
      "1/1 [==============================] - 2s 2s/step - loss: 0.0596 - RMSE: 0.2441 - MAE: 0.1918 - val_loss: 0.0046 - val_RMSE: 0.0675 - val_MAE: 0.0662\n",
      "Epoch 88/100\n",
      "1/1 [==============================] - 2s 2s/step - loss: 0.0549 - RMSE: 0.2343 - MAE: 0.1861 - val_loss: 0.0046 - val_RMSE: 0.0675 - val_MAE: 0.0662\n",
      "Epoch 89/100\n",
      "1/1 [==============================] - 2s 2s/step - loss: 0.0598 - RMSE: 0.2445 - MAE: 0.1934 - val_loss: 0.0043 - val_RMSE: 0.0658 - val_MAE: 0.0645\n",
      "Epoch 90/100\n",
      "1/1 [==============================] - 2s 2s/step - loss: 0.0607 - RMSE: 0.2463 - MAE: 0.1961 - val_loss: 0.0041 - val_RMSE: 0.0638 - val_MAE: 0.0625\n",
      "Epoch 91/100\n",
      "1/1 [==============================] - 2s 2s/step - loss: 0.0562 - RMSE: 0.2370 - MAE: 0.1881 - val_loss: 0.0037 - val_RMSE: 0.0612 - val_MAE: 0.0598\n",
      "Epoch 92/100\n",
      "1/1 [==============================] - 2s 2s/step - loss: 0.0548 - RMSE: 0.2341 - MAE: 0.1874 - val_loss: 0.0035 - val_RMSE: 0.0592 - val_MAE: 0.0577\n",
      "Epoch 93/100\n",
      "1/1 [==============================] - 2s 2s/step - loss: 0.0537 - RMSE: 0.2317 - MAE: 0.1889 - val_loss: 0.0034 - val_RMSE: 0.0584 - val_MAE: 0.0569\n",
      "Epoch 94/100\n",
      "1/1 [==============================] - 2s 2s/step - loss: 0.0566 - RMSE: 0.2379 - MAE: 0.1915 - val_loss: 0.0033 - val_RMSE: 0.0578 - val_MAE: 0.0563\n",
      "Epoch 95/100\n",
      "1/1 [==============================] - 2s 2s/step - loss: 0.0537 - RMSE: 0.2317 - MAE: 0.1881 - val_loss: 0.0035 - val_RMSE: 0.0589 - val_MAE: 0.0574\n",
      "Epoch 96/100\n",
      "1/1 [==============================] - 2s 2s/step - loss: 0.0558 - RMSE: 0.2362 - MAE: 0.1917 - val_loss: 0.0036 - val_RMSE: 0.0603 - val_MAE: 0.0588\n",
      "Epoch 97/100\n",
      "1/1 [==============================] - 2s 2s/step - loss: 0.0541 - RMSE: 0.2326 - MAE: 0.1863 - val_loss: 0.0038 - val_RMSE: 0.0616 - val_MAE: 0.0602\n",
      "Epoch 98/100\n",
      "1/1 [==============================] - 2s 2s/step - loss: 0.0576 - RMSE: 0.2399 - MAE: 0.1916 - val_loss: 0.0038 - val_RMSE: 0.0615 - val_MAE: 0.0601\n",
      "Epoch 99/100\n",
      "1/1 [==============================] - 2s 2s/step - loss: 0.0554 - RMSE: 0.2353 - MAE: 0.1881 - val_loss: 0.0036 - val_RMSE: 0.0598 - val_MAE: 0.0584\n",
      "Epoch 100/100\n",
      "1/1 [==============================] - 2s 2s/step - loss: 0.0488 - RMSE: 0.2210 - MAE: 0.1811 - val_loss: 0.0034 - val_RMSE: 0.0582 - val_MAE: 0.0567\n"
     ]
    }
   ],
   "source": [
    "history = model.fit(\n",
    "    x_train, y_train,\n",
    "    epochs = NUM_EPOCHS, batch_size = BATCH_SIZE, validation_split = 0.05, shuffle = True,\n",
    ")"
   ]
  },
  {
   "cell_type": "code",
   "execution_count": 29,
   "metadata": {
    "ExecuteTime": {
     "end_time": "2023-01-12T18:00:54.130696Z",
     "start_time": "2023-01-12T18:00:53.568796Z"
    }
   },
   "outputs": [
    {
     "data": {
      "image/png": "[encoded data removed]",
      "text/plain": [
       "<Figure size 2700x300 with 2 Axes>"
      ]
     },
     "metadata": {},
     "output_type": "display_data"
    }
   ],
   "source": [
    "plt.figure(figsize = (27, 3))\n",
    "\n",
    "plt.subplot(121)\n",
    "plt.plot(history.history[\"loss\"], label = \"loss\")\n",
    "plt.plot(history.history[\"val_loss\"], label = \"val_loss\")\n",
    "\n",
    "plt.title(\"Loss Metric (AUC)\")\n",
    "plt.legend()\n",
    "\n",
    "plt.subplot(122)\n",
    "plt.plot(history.history[\"MAE\"], label = \"MAE\")\n",
    "plt.plot(history.history[\"val_MAE\"], label = \"val_MAE\")\n",
    "\n",
    "plt.title(\"Mean Absolute Error (MAE)\")\n",
    "plt.legend()\n",
    "plt.show()"
   ]
  },
  {
   "cell_type": "code",
   "execution_count": 36,
   "metadata": {
    "ExecuteTime": {
     "end_time": "2023-01-12T18:05:19.865282Z",
     "start_time": "2023-01-12T18:05:14.647703Z"
    }
   },
   "outputs": [
    {
     "name": "stdout",
     "output_type": "stream",
     "text": [
      "21/21 [==============================] - 5s 241ms/step\n"
     ]
    }
   ],
   "source": [
    "# let's see the prediction of the own data and plot it against the actual\n",
    "y_predicted = model.predict(x_train).reshape(1, -1)[0]"
   ]
  },
  {
   "cell_type": "code",
   "execution_count": 38,
   "metadata": {
    "ExecuteTime": {
     "end_time": "2023-01-12T18:06:14.582127Z",
     "start_time": "2023-01-12T18:06:14.567127Z"
    }
   },
   "outputs": [
    {
     "data": {
      "text/plain": [
       "(0.05007280142485853, 0.055288262749013314)"
      ]
     },
     "execution_count": 38,
     "metadata": {},
     "output_type": "execute_result"
    }
   ],
   "source": [
    "# so we can calculate the mae and rmse loss for the model as:\n",
    "MAE(y_train, y_predicted), MSE(y_train, y_predicted, squared = False)"
   ]
  },
  {
   "cell_type": "code",
   "execution_count": 40,
   "metadata": {
    "ExecuteTime": {
     "end_time": "2023-01-12T18:08:07.974458Z",
     "start_time": "2023-01-12T18:08:07.855528Z"
    }
   },
   "outputs": [
    {
     "data": {
      "image/png": "[encoded data removed]",
      "text/plain": [
       "<Figure size 2700x300 with 1 Axes>"
      ]
     },
     "metadata": {},
     "output_type": "display_data"
    }
   ],
   "source": [
    "plt.figure(figsize = (27, 3))\n",
    "\n",
    "plt.plot(y_train, label = \"$y$\")\n",
    "plt.plot(y_predicted, label = \"$\\hat{y}$\")\n",
    "\n",
    "plt.xticks([]) # close for now\n",
    "\n",
    "plt.legend()\n",
    "plt.show()"
   ]
  }
 ],
 "metadata": {
  "hide_input": false,
  "kernelspec": {
   "display_name": "TensorFlow 2.9.0 (GPU)",
   "language": "python",
   "name": "tensorflow"
  },
  "language_info": {
   "codemirror_mode": {
    "name": "ipython",
    "version": 3
   },
   "file_extension": ".py",
   "mimetype": "text/x-python",
   "name": "python",
   "nbconvert_exporter": "python",
   "pygments_lexer": "ipython3",
   "version": "3.9.13"
  },
  "latex_envs": {
   "LaTeX_envs_menu_present": true,
   "autoclose": true,
   "autocomplete": true,
   "bibliofile": "biblio.bib",
   "cite_by": "apalike",
   "current_citInitial": 1,
   "eqLabelWithNumbers": true,
   "eqNumInitial": 1,
   "hotkeys": {
    "equation": "Ctrl-E",
    "itemize": "Ctrl-I"
   },
   "labels_anchors": false,
   "latex_user_defs": false,
   "report_style_numbering": false,
   "user_envs_cfg": false
  },
  "toc": {
   "base_numbering": 1,
   "nav_menu": {},
   "number_sections": false,
   "sideBar": true,
   "skip_h1_title": true,
   "title_cell": "Table of Contents",
   "title_sidebar": "Contents",
   "toc_cell": false,
   "toc_position": {},
   "toc_section_display": true,
   "toc_window_display": false
  },
  "varInspector": {
   "cols": {
    "lenName": 16,
    "lenType": 16,
    "lenVar": 40
   },
   "kernels_config": {
    "python": {
     "delete_cmd_postfix": "",
     "delete_cmd_prefix": "del ",
     "library": "var_list.py",
     "varRefreshCmd": "print(var_dic_list())"
    },
    "r": {
     "delete_cmd_postfix": ") ",
     "delete_cmd_prefix": "rm(",
     "library": "var_list.r",
     "varRefreshCmd": "cat(var_dic_list()) "
    }
   },
   "types_to_exclude": [
    "module",
    "function",
    "builtin_function_or_method",
    "instance",
    "_Feature"
   ],
   "window_display": false
  }
 },
 "nbformat": 4,
 "nbformat_minor": 2
}
