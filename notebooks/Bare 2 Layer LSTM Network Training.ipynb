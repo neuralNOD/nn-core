{
 "cells": [
  {
   "cell_type": "markdown",
   "metadata": {},
   "source": [
    "<h1 align = \"center\">Boilerplate/Template Design</h1>\n",
    "\n",
    "---\n",
    "\n",
    "\n",
    "**Objective:** The file provides a simple *boilerplate* to concentrate on what is necessary, and stop doing same tasks! The boilerplate is also configured with certain [**nbextensions**](https://gitlab.com/ZenithClown/computer-configurations-and-setups) that I personally use. Install them, if required, else ignore them as they do not participate in any type of code-optimizations. For any new project *edit* this file or `File > Make a Copy` to get started with the project. Some settings and configurations are already provided, as mentioned below."
   ]
  },
  {
   "cell_type": "code",
   "execution_count": 1,
   "metadata": {
    "ExecuteTime": {
     "end_time": "2023-01-13T07:15:13.332491Z",
     "start_time": "2023-01-13T07:15:13.313990Z"
    },
    "deletable": false,
    "editable": false
   },
   "outputs": [
    {
     "name": "stdout",
     "output_type": "stream",
     "text": [
      "Current Code Version: \n"
     ]
    }
   ],
   "source": [
    "# use the code release version for tracking and code modifications. use the\n",
    "# CHANGELOG.md file to keep track of version features, and/or release notes.\n",
    "# the version file is avaiable at project root directory, check the\n",
    "# global configuration setting for root directory information.\n",
    "# the file is already read and is available as `__version__`\n",
    "__version__ = open(\"../VERSION\", \"rt\").read() # bump codecov\n",
    "print(f\"Current Code Version: {__version__}\") # TODO : author, contact"
   ]
  },
  {
   "cell_type": "markdown",
   "metadata": {},
   "source": [
    "## Code Imports\n",
    "\n",
    "A code must be written such that it is always _production ready_. The conventional guidelines provided under [**PEP8**](https://peps.python.org/pep-0008/#imports) defines the conventional or syntactically useful ways of defining and/or manipulating functions. Necessar guidelines w.r.t. code imports are mentioned below, and basic libraries and import settings are defined.\n",
    "\n",
    " 1. Imports should be on separate lines,\n",
    " 2. Import order should be:\n",
    "    * standard library/modules,\n",
    "    * related third party imports,\n",
    "    * local application/user defined imports\n",
    " 3. Wildcard import (`*`) should be avoided, else specifically tagged with **`# noqa: F403`** as per `flake8` or **`# pylint: disable=unused-import`** as per `pylint`\n",
    " 4. Avoid using relative imports; use explicit imports instead."
   ]
  },
  {
   "cell_type": "code",
   "execution_count": 2,
   "metadata": {
    "ExecuteTime": {
     "end_time": "2023-01-13T07:15:13.348493Z",
     "start_time": "2023-01-13T07:15:13.335492Z"
    },
    "deletable": false,
    "editable": false
   },
   "outputs": [],
   "source": [
    "import os   # miscellaneous os interfaces\n",
    "import sys  # configuring python runtime environment\n",
    "import time # library for time manipulation, and logging"
   ]
  },
  {
   "cell_type": "code",
   "execution_count": 3,
   "metadata": {
    "ExecuteTime": {
     "end_time": "2023-01-13T07:15:13.363494Z",
     "start_time": "2023-01-13T07:15:13.350494Z"
    },
    "deletable": false,
    "editable": false
   },
   "outputs": [],
   "source": [
    "# use `datetime` to control and preceive the environment\n",
    "# in addition `pandas` also provides date time functionalities\n",
    "import datetime as dt"
   ]
  },
  {
   "cell_type": "code",
   "execution_count": 4,
   "metadata": {
    "ExecuteTime": {
     "end_time": "2023-01-13T07:15:13.379494Z",
     "start_time": "2023-01-13T07:15:13.365493Z"
    },
    "deletable": false,
    "editable": false
   },
   "outputs": [],
   "source": [
    "from copy import deepcopy      # dataframe is mutable\n",
    "from tqdm import tqdm as TQ    # progress bar for loops\n",
    "# from uuid import uuid4 as UUID # unique identifier for objs"
   ]
  },
  {
   "cell_type": "markdown",
   "metadata": {},
   "source": [
    "[**`logging`**](https://docs.python.org/3/howto/logging.html) is a standard python module that is meant for tracking any events that happen during any software/code operations. This module is super powerful and helpful for code debugging and other purposes. The next section defines a `logging` configuration in **`../logs/`** directory. Modify the **`LOGS_DIR`** variable under *Global Arguments* to change the default directory. The module is configured with a simplistic approach, such that any `print())` statement can be update to `logging.LEVEL_NAME()` and the code will work. Use logging operations like:\n",
    "\n",
    "```python\n",
    " >> logging.debug(\"This is a Debug Message.\")\n",
    " >> logging.info(\"This is a Information Message.\")\n",
    " >> logging.warning(\"This is a Warning Message.\")\n",
    " >> logging.error(\"This is a ERROR Message.\")\n",
    " >> logging.critical(\"This is a CRITICAL Message.\")\n",
    "```\n",
    "\n",
    "Note: some directories related to logging is created by default. This can be updated/changed in the following configuration section."
   ]
  },
  {
   "cell_type": "code",
   "execution_count": null,
   "metadata": {
    "ExecuteTime": {
     "end_time": "2022-05-07T11:55:57.663629Z",
     "start_time": "2022-05-07T11:55:57.657630Z"
    },
    "deletable": false,
    "editable": false,
    "run_control": {
     "frozen": true
    }
   },
   "outputs": [],
   "source": [
    "import logging # configure logging on `global arguments` section, as file path is required"
   ]
  },
  {
   "cell_type": "markdown",
   "metadata": {},
   "source": [
    "### Data Analysis and AI/ML Libraries\n",
    "\n",
    "Import of data analysis and AI/ML libraries required at different intersections. Check settings and configurations [here](https://gitlab.com/ZenithClown/computer-configurations-and-setups) and code snippets [here](https://gitlab.com/ZenithClown/computer-configurations-and-setups/-/tree/master/template/snippets/vscode) for understanding settings that is used in this notebook. The code uses `matplotlib.styles` which is a custom `.mplstyle` file recognised by the `matplotlib` downlodable from [this link](https://gitlab.com/ZenithClown/computer-configurations-and-setups/-/tree/master/settings/python/matplotlib)."
   ]
  },
  {
   "cell_type": "code",
   "execution_count": 5,
   "metadata": {
    "ExecuteTime": {
     "end_time": "2023-01-13T07:15:14.881955Z",
     "start_time": "2023-01-13T07:15:13.380493Z"
    },
    "deletable": false,
    "editable": false
   },
   "outputs": [],
   "source": [
    "import numpy as np\n",
    "import pandas as pd\n",
    "import seaborn as sns\n",
    "import matplotlib.pyplot as plt\n",
    "\n",
    "%precision 3\n",
    "%matplotlib inline\n",
    "sns.set_style('whitegrid');\n",
    "plt.style.use('default-style');\n",
    "\n",
    "pd.set_option('display.max_rows', 50) # max. rows to show\n",
    "pd.set_option('display.max_columns', 15) # max. cols to show\n",
    "np.set_printoptions(precision = 3, threshold = 15) # set np options\n",
    "pd.options.display.float_format = '{:,.2f}'.format # float precisions"
   ]
  },
  {
   "cell_type": "code",
   "execution_count": 6,
   "metadata": {
    "ExecuteTime": {
     "end_time": "2023-01-13T07:15:15.040728Z",
     "start_time": "2023-01-13T07:15:14.884840Z"
    }
   },
   "outputs": [],
   "source": [
    "from sklearn.metrics import (\n",
    "    mean_squared_error as MSE,\n",
    "    mean_absolute_error as MAE\n",
    ")"
   ]
  },
  {
   "cell_type": "code",
   "execution_count": 7,
   "metadata": {
    "ExecuteTime": {
     "end_time": "2023-01-13T07:15:17.622082Z",
     "start_time": "2023-01-13T07:15:15.041721Z"
    },
    "deletable": false,
    "editable": false
   },
   "outputs": [
    {
     "name": "stdout",
     "output_type": "stream",
     "text": [
      "Tensorflow Version: 2.9.0\n",
      "\n",
      "GPU Computing Available. EXPERIMENTAL : {'device_name': 'NVIDIA GeForce GTX 1650', 'compute_capability': (7, 5)}\n"
     ]
    }
   ],
   "source": [
    "import tensorflow as tf\n",
    "print(f\"Tensorflow Version: {tf.__version__}\", end = \"\\n\\n\") # required >= 2.8\n",
    "\n",
    "# check physical devices, and gpu compute capability (if available)\n",
    "if len(tf.config.list_physical_devices(device_type = \"GPU\")):\n",
    "    # https://stackoverflow.com/q/38009682/6623589\n",
    "    # https://stackoverflow.com/a/59179238/6623589\n",
    "    print(\"GPU Computing Available.\", end = \" \")\n",
    "    \n",
    "    # experimentally, get the gpu details and computation power\n",
    "    # https://www.tensorflow.org/api_docs/python/tf/config/experimental/get_device_details\n",
    "    devices = tf.config.list_physical_devices(device_type = \"GPU\")[0] # first\n",
    "    details = tf.config.experimental.get_device_details(devices) # only first\n",
    "    details.get('device_name', 'compute_capability')\n",
    "    print(f\"EXPERIMENTAL : {details}\")\n",
    "else:\n",
    "    print(\"GPU Computing Not Available. If `GPU` is present, check configuration. Detected Devices:\")\n",
    "    print(\"  > \", tf.config.list_physical_devices())"
   ]
  },
  {
   "cell_type": "markdown",
   "metadata": {},
   "source": [
    "### User Defined Function(s)\n",
    "\n",
    "It is recommended that any UDFs are defined outside the scope of the *jupyter notebook* such that development/editing of function can be done more practically. As per *programming guidelines* as [`src`](https://fileinfo.com/extension/src) file/directory is beneficial in code development and/or production release. However, *jupyter notebook* requires *kernel restart* if any imported code file is changed in disc, for this frequently changing functions can be defined in this section.\n",
    "\n",
    "**Getting Started** with **`PYTHONPATH`**\n",
    "\n",
    "One must know what are [Environment Variable](https://medium.com/chingu/an-introduction-to-environment-variables-and-how-to-use-them-f602f66d15fa) and how to call/use them in your choice of programming language. Note that an environment variable is *case sensitive* in all operating systems (except windows, since DOS is not case sensitive). Generally, we can access environment variables from terminal/shell/command prompt as:\n",
    "\n",
    "```shell\n",
    "# macOS/*nix\n",
    "echo $VARNAME\n",
    "\n",
    "# windows\n",
    "echo %VARNAME%\n",
    "```\n",
    "\n",
    "Once you've setup your system with [`PYTHONPATH`](https://bic-berkeley.github.io/psych-214-fall-2016/using_pythonpath.html) as per [*python documentation*](https://docs.python.org/3/using/cmdline.html#envvar-PYTHONPATH) is an important directory where any `import` statements looks for based on their order of importance. If a source code/module is not available check necessary environment variables and/or ask the administrator for the source files. For testing purpose, the module boasts the use of `src`, `utils` and `config` directories. However, these directories are available at `ROOT` level, and thus using `sys.path.append()` to add directories while importing."
   ]
  },
  {
   "cell_type": "code",
   "execution_count": 8,
   "metadata": {
    "ExecuteTime": {
     "end_time": "2023-01-13T07:15:17.653555Z",
     "start_time": "2023-01-13T07:15:17.628083Z"
    },
    "deletable": false,
    "editable": false
   },
   "outputs": [],
   "source": [
    "# append `src` and sub-modules to call additional files these directory are\n",
    "# project specific and not to be added under environment or $PATH variable\n",
    "sys.path.append(os.path.join(\"..\", \"src\")) # parent/source files directory\n",
    "sys.path.append(os.path.join(\"..\", \"src\", \"agents\")) # agents for reinforcement modelling\n",
    "sys.path.append(os.path.join(\"..\", \"src\", \"engine\")) # derivative engines for model control\n",
    "sys.path.append(os.path.join(\"..\", \"src\", \"models\")) # actual models for decision making tools"
   ]
  },
  {
   "cell_type": "code",
   "execution_count": 9,
   "metadata": {
    "ExecuteTime": {
     "end_time": "2023-01-13T07:15:17.669001Z",
     "start_time": "2023-01-13T07:15:17.660539Z"
    },
    "deletable": false,
    "editable": false
   },
   "outputs": [],
   "source": [
    "# also append the `utilities` directory for additional helpful codes\n",
    "sys.path.append(os.path.join(\"..\", \"utilities\"))"
   ]
  },
  {
   "cell_type": "code",
   "execution_count": 10,
   "metadata": {
    "ExecuteTime": {
     "end_time": "2023-01-13T07:15:17.684207Z",
     "start_time": "2023-01-13T07:15:17.671999Z"
    },
    "deletable": false,
    "editable": false
   },
   "outputs": [],
   "source": [
    "from lstm import BareLSTM\n",
    "from featuring import CreateSequence\n",
    "from scaler import UnivariateRangedScaler"
   ]
  },
  {
   "cell_type": "markdown",
   "metadata": {},
   "source": [
    "## Global Argument(s)\n",
    "\n",
    "The global arguments are *notebook* specific, however they may also be extended to external libraries and functions on import. The *boilerplate* provides a basic ML directory structure which contains a directory for `data` and a separate directory for `output`. In addition, a separate directory (`data/processed`) is created to save processed dataset such that preprocessing can be avoided."
   ]
  },
  {
   "cell_type": "code",
   "execution_count": null,
   "metadata": {
    "ExecuteTime": {
     "end_time": "2022-05-07T12:02:30.668471Z",
     "start_time": "2022-05-07T12:02:30.661377Z"
    },
    "deletable": false,
    "editable": false,
    "run_control": {
     "frozen": true
    }
   },
   "outputs": [],
   "source": [
    "ROOT = \"..\" # the document root is one level up, that contains all code structure\n",
    "DATA = join(ROOT, \"data\") # the directory contains all data files, subdirectory (if any) can also be used/defined\n",
    "\n",
    "# processed data directory can be used, such that preprocessing steps is not\n",
    "# required to run again-and-again each time on kernel restart\n",
    "PROCESSED_DATA = join(DATA, \"processed\")"
   ]
  },
  {
   "cell_type": "code",
   "execution_count": 11,
   "metadata": {
    "ExecuteTime": {
     "end_time": "2023-01-13T07:15:17.699478Z",
     "start_time": "2023-01-13T07:15:17.685213Z"
    }
   },
   "outputs": [
    {
     "name": "stdout",
     "output_type": "stream",
     "text": [
      "Code Execution Started on: Fri, Jan 13 2023\n"
     ]
    }
   ],
   "source": [
    "# long projects can be overwhelming, and keeping track of files, outputs and\n",
    "# saved models can be intriguing! to help this out, `today` can be used. for\n",
    "# instance output can be stored at `output/<today>/` etc.\n",
    "# `today` is so configured that it permits windows/*.nix file/directory names\n",
    "today = dt.datetime.strftime(dt.datetime.strptime(time.ctime(), \"%a %b %d %H:%M:%S %Y\"), \"%a, %b %d %Y\")\n",
    "print(f\"Code Execution Started on: {today}\") # only date, name of the sub-directory"
   ]
  },
  {
   "cell_type": "code",
   "execution_count": 11,
   "metadata": {
    "ExecuteTime": {
     "end_time": "2023-01-12T17:44:39.533084Z",
     "start_time": "2023-01-12T17:44:39.515717Z"
    },
    "deletable": false,
    "editable": false,
    "run_control": {
     "frozen": true
    }
   },
   "outputs": [
    {
     "ename": "NameError",
     "evalue": "name 'ROOT' is not defined",
     "output_type": "error",
     "traceback": [
      "\u001b[1;31m---------------------------------------------------------------------------\u001b[0m",
      "\u001b[1;31mNameError\u001b[0m                                 Traceback (most recent call last)",
      "\u001b[1;32m~\\AppData\\Local\\Temp\\ipykernel_19816\\3525082552.py\u001b[0m in \u001b[0;36m<module>\u001b[1;34m\u001b[0m\n\u001b[1;32m----> 1\u001b[1;33m \u001b[0mOUTPUT_DIR\u001b[0m \u001b[1;33m=\u001b[0m \u001b[0mos\u001b[0m\u001b[1;33m.\u001b[0m\u001b[0mpath\u001b[0m\u001b[1;33m.\u001b[0m\u001b[0mjoin\u001b[0m\u001b[1;33m(\u001b[0m\u001b[0mROOT\u001b[0m\u001b[1;33m,\u001b[0m \u001b[1;34m\"output\"\u001b[0m\u001b[1;33m)\u001b[0m\u001b[1;33m\u001b[0m\u001b[1;33m\u001b[0m\u001b[0m\n\u001b[0m\u001b[0;32m      2\u001b[0m \u001b[1;31m# makedirs(OUTPUT_DIR, exist_ok = True) # create dir if not exist\u001b[0m\u001b[1;33m\u001b[0m\u001b[1;33m\u001b[0m\u001b[0m\n\u001b[0;32m      3\u001b[0m \u001b[1;33m\u001b[0m\u001b[0m\n\u001b[0;32m      4\u001b[0m \u001b[1;31m# also create directory for `logs`\u001b[0m\u001b[1;33m\u001b[0m\u001b[1;33m\u001b[0m\u001b[0m\n\u001b[0;32m      5\u001b[0m \u001b[1;31m# LOGS_DIR = join(ROOT, \"logs\", open(\"../VERSION\", 'rt').read())\u001b[0m\u001b[1;33m\u001b[0m\u001b[1;33m\u001b[0m\u001b[0m\n",
      "\u001b[1;31mNameError\u001b[0m: name 'ROOT' is not defined"
     ]
    }
   ],
   "source": [
    "OUTPUT_DIR = os.path.join(ROOT, \"output\")\n",
    "# makedirs(OUTPUT_DIR, exist_ok = True) # create dir if not exist\n",
    "\n",
    "# also create directory for `logs`\n",
    "# LOGS_DIR = join(ROOT, \"logs\", open(\"../VERSION\", 'rt').read())\n",
    "# makedirs(LOGS_DIR, exist_ok = True)"
   ]
  },
  {
   "cell_type": "code",
   "execution_count": null,
   "metadata": {
    "ExecuteTime": {
     "end_time": "2022-05-07T12:07:35.345557Z",
     "start_time": "2022-05-07T12:07:35.334528Z"
    },
    "deletable": false,
    "editable": false,
    "run_control": {
     "frozen": true
    }
   },
   "outputs": [],
   "source": [
    "logging.basicConfig(\n",
    "    filename = join(LOGS_DIR, f\"{today}.log\"), # change `reports` file name\n",
    "    filemode = \"a\", # append logs to existing file, if file exists\n",
    "    format = \"%(asctime)s - %(name)s - CLASS:%(levelname)s:%(levelno)s:L#%(lineno)d - %(message)s\",\n",
    "    level = logging.DEBUG\n",
    ")"
   ]
  },
  {
   "cell_type": "markdown",
   "metadata": {},
   "source": [
    "## Read Input File(s)\n",
    "\n",
    "A typical machine learning project revolves around six important stages (as available in [Amazon ML Life Cycle Documentation](https://docs.aws.amazon.com/wellarchitected/latest/machine-learning-lens/well-architected-machine-learning-lifecycle.html)). The notebook boilerplate is provided to address two pillars:\n",
    "\n",
    " 1. **Data Processing:** An integral part of any machine learning project, which is the most time consuming step! A brief introduction and best practices is available [here](https://towardsdatascience.com/introduction-to-data-preprocessing-in-machine-learning-a9fa83a5dc9d).\n",
    " 2. **Model Development:** From understanding to deployment, this section address development (training, validating and testing) of an machine learning model.\n",
    "\n",
    "![ML Life Cycle](https://docs.aws.amazon.com/wellarchitected/latest/machine-learning-lens/images/ml-lifecycle.png)"
   ]
  },
  {
   "cell_type": "code",
   "execution_count": 12,
   "metadata": {
    "ExecuteTime": {
     "end_time": "2023-01-13T07:15:46.668578Z",
     "start_time": "2023-01-13T07:15:17.700284Z"
    },
    "deletable": false,
    "editable": false
   },
   "outputs": [
    {
     "data": {
      "text/html": [
       "<div>\n",
       "<style scoped>\n",
       "    .dataframe tbody tr th:only-of-type {\n",
       "        vertical-align: middle;\n",
       "    }\n",
       "\n",
       "    .dataframe tbody tr th {\n",
       "        vertical-align: top;\n",
       "    }\n",
       "\n",
       "    .dataframe thead th {\n",
       "        text-align: right;\n",
       "    }\n",
       "</style>\n",
       "<table border=\"1\" class=\"dataframe\">\n",
       "  <thead>\n",
       "    <tr style=\"text-align: right;\">\n",
       "      <th></th>\n",
       "      <th>EffectiveDate</th>\n",
       "      <th>year</th>\n",
       "      <th>month</th>\n",
       "      <th>day</th>\n",
       "      <th>BlockID</th>\n",
       "      <th>PurchaseBid</th>\n",
       "      <th>SellBid</th>\n",
       "      <th>MCV</th>\n",
       "      <th>MCP</th>\n",
       "    </tr>\n",
       "  </thead>\n",
       "  <tbody>\n",
       "    <tr>\n",
       "      <th>231984</th>\n",
       "      <td>2018-11-13</td>\n",
       "      <td>2018</td>\n",
       "      <td>11</td>\n",
       "      <td>13</td>\n",
       "      <td>49</td>\n",
       "      <td>7,187.60</td>\n",
       "      <td>9,115.50</td>\n",
       "      <td>5,144.69</td>\n",
       "      <td>3,500.63</td>\n",
       "    </tr>\n",
       "  </tbody>\n",
       "</table>\n",
       "</div>"
      ],
      "text/plain": [
       "       EffectiveDate  year  month  day  BlockID  PurchaseBid  SellBid  \\\n",
       "231984    2018-11-13  2018     11   13       49     7,187.60 9,115.50   \n",
       "\n",
       "            MCV      MCP  \n",
       "231984 5,144.69 3,500.63  "
      ]
     },
     "execution_count": 12,
     "metadata": {},
     "output_type": "execute_result"
    }
   ],
   "source": [
    "MARKET_SNAPSHOT_FILE_PATH = r\"E:\\database\\Indian Energy Exchange\\Market Data - Day Ahead Market (DAM)\\PROCESSED_MarketSnapshot_01-04-2012_31-12-2022.xlsx\"\n",
    "market_snapshot = pd.read_excel(MARKET_SNAPSHOT_FILE_PATH, sheet_name = \"MarketSnapshot\")\n",
    "market_snapshot[\"EffectiveDate\"] = pd.to_datetime(market_snapshot[\"EffectiveDate\"], format = \"%Y-%m-%d\")\n",
    "\n",
    "# already known that 01-08-2012 data records are missing from data source, and\n",
    "# this is a very old record, thus just copy paste the previous days records\n",
    "missing_records = deepcopy(market_snapshot[market_snapshot[\"EffectiveDate\"] == dt.datetime(year = 2022, month = 7, day = 31)])\n",
    "missing_records[\"EffectiveDate\"] = pd.Timestamp(year = 2022, month = 7, day = 31)\n",
    "\n",
    "market_snapshot = pd.concat([market_snapshot, missing_records], ignore_index = True)\n",
    "market_snapshot.sort_values(by = [\"EffectiveDate\", \"BlockID\"], inplace = True)\n",
    "\n",
    "# insert additional columns like year, month and day\n",
    "market_snapshot[\"year\"], market_snapshot[\"month\"], market_snapshot[\"day\"] = zip(*market_snapshot[\"EffectiveDate\"].apply(lambda x : (x.year, x.month, x.day)))\n",
    "market_snapshot = market_snapshot[[\"EffectiveDate\", \"year\", \"month\", \"day\", \"BlockID\", \"PurchaseBid\", \"SellBid\", \"MCV\", \"MCP\"]]\n",
    "\n",
    "market_snapshot.sample()"
   ]
  },
  {
   "cell_type": "code",
   "execution_count": 13,
   "metadata": {
    "ExecuteTime": {
     "end_time": "2023-01-13T07:15:46.730590Z",
     "start_time": "2023-01-13T07:15:46.669562Z"
    },
    "deletable": false,
    "editable": false
   },
   "outputs": [
    {
     "data": {
      "text/html": [
       "<div>\n",
       "<style scoped>\n",
       "    .dataframe tbody tr th:only-of-type {\n",
       "        vertical-align: middle;\n",
       "    }\n",
       "\n",
       "    .dataframe tbody tr th {\n",
       "        vertical-align: top;\n",
       "    }\n",
       "\n",
       "    .dataframe thead th {\n",
       "        text-align: right;\n",
       "    }\n",
       "</style>\n",
       "<table border=\"1\" class=\"dataframe\">\n",
       "  <thead>\n",
       "    <tr style=\"text-align: right;\">\n",
       "      <th></th>\n",
       "      <th>EffectiveDate</th>\n",
       "      <th>year</th>\n",
       "      <th>month</th>\n",
       "      <th>day</th>\n",
       "      <th>BlockID</th>\n",
       "      <th>PurchaseBid</th>\n",
       "      <th>SellBid</th>\n",
       "      <th>MCV</th>\n",
       "      <th>MCP</th>\n",
       "      <th>MCP_</th>\n",
       "    </tr>\n",
       "  </thead>\n",
       "  <tbody>\n",
       "    <tr>\n",
       "      <th>260290</th>\n",
       "      <td>2019-09-04</td>\n",
       "      <td>2019</td>\n",
       "      <td>9</td>\n",
       "      <td>4</td>\n",
       "      <td>35</td>\n",
       "      <td>4,364.90</td>\n",
       "      <td>10,890.10</td>\n",
       "      <td>4,014.60</td>\n",
       "      <td>2,249.52</td>\n",
       "      <td>1.11</td>\n",
       "    </tr>\n",
       "  </tbody>\n",
       "</table>\n",
       "</div>"
      ],
      "text/plain": [
       "       EffectiveDate  year  month  day  BlockID  PurchaseBid   SellBid  \\\n",
       "260290    2019-09-04  2019      9    4       35     4,364.90 10,890.10   \n",
       "\n",
       "            MCV      MCP  MCP_  \n",
       "260290 4,014.60 2,249.52  1.11  "
      ]
     },
     "execution_count": 13,
     "metadata": {},
     "output_type": "execute_result"
    }
   ],
   "source": [
    "scaler0 = UnivariateRangedScaler(x_min = 0.10 * 1e3, x_max = 20.00 * 1e3, feature_range = (1, 2))\n",
    "mcp_values_0 = market_snapshot[market_snapshot[\"EffectiveDate\"] <= dt.datetime(year = 2022, month = 4, day = 3)][\"MCP\"].values\n",
    "sc_mcp_values_0 = scaler0.fit_transform(mcp_values_0)\n",
    "\n",
    "scaler1 = UnivariateRangedScaler(x_min = 0.10 * 1e3, x_max = 12.00 * 1e3, feature_range = (1, 2))\n",
    "mcp_values_1 = market_snapshot[market_snapshot[\"EffectiveDate\"] >= dt.datetime(year = 2022, month = 4, day = 4)][\"MCP\"].values\n",
    "sc_mcp_values_1 = scaler1.fit_transform(mcp_values_1)\n",
    "\n",
    "market_snapshot[\"MCP_\"] = np.concatenate((sc_mcp_values_0, sc_mcp_values_1))\n",
    "market_snapshot.sample()"
   ]
  },
  {
   "cell_type": "markdown",
   "metadata": {},
   "source": [
    "Let's test model building by taking **5 days** of data."
   ]
  },
  {
   "cell_type": "code",
   "execution_count": 14,
   "metadata": {
    "ExecuteTime": {
     "end_time": "2023-01-13T07:15:46.746590Z",
     "start_time": "2023-01-13T07:15:46.732598Z"
    }
   },
   "outputs": [
    {
     "data": {
      "text/plain": [
       "(960, 10)"
      ]
     },
     "execution_count": 14,
     "metadata": {},
     "output_type": "execute_result"
    }
   ],
   "source": [
    "data = market_snapshot[\n",
    "    (market_snapshot[\"EffectiveDate\"] >= dt.datetime(year = 2012, month = 4, day = 1)) &\n",
    "    (market_snapshot[\"EffectiveDate\"] <= dt.datetime(year = 2012, month = 4, day = 10))\n",
    "]\n",
    "\n",
    "data.shape # 10 * 96"
   ]
  },
  {
   "cell_type": "code",
   "execution_count": 15,
   "metadata": {
    "ExecuteTime": {
     "end_time": "2023-01-13T07:15:46.762590Z",
     "start_time": "2023-01-13T07:15:46.748590Z"
    }
   },
   "outputs": [],
   "source": [
    "mcp = data.MCP_.values # 960 records\n",
    "\n",
    "# n_past = 3 * 96\n",
    "# n_feat = 1 # working with univariate\n",
    "\n",
    "# x_train, y_train = [], []\n",
    "# for idx in TQ(range(n_past, mcp.shape[0])):\n",
    "#     x_train.append(mcp[idx - n_past : idx])\n",
    "#     y_train.append(mcp[idx])\n",
    "    \n",
    "# x_train = np.array(x_train)\n",
    "# x_train = x_train.reshape(*x_train.shape, n_feat)\n",
    "\n",
    "# y_train = np.array(y_train)\n",
    "# x_train.shape, y_train.shape"
   ]
  },
  {
   "cell_type": "code",
   "execution_count": 16,
   "metadata": {
    "ExecuteTime": {
     "end_time": "2023-01-13T07:15:46.778602Z",
     "start_time": "2023-01-13T07:15:46.763590Z"
    }
   },
   "outputs": [],
   "source": [
    "x_train, y_train = CreateSequence(mcp).create_univariate_series(\n",
    "    n_lookback = 3 * 96, # look into 3 days past records\n",
    "    n_forecast = 1 # on t(-1) we want prediction for t(+1)\n",
    ")"
   ]
  },
  {
   "cell_type": "code",
   "execution_count": 17,
   "metadata": {
    "ExecuteTime": {
     "end_time": "2023-01-13T07:15:46.794023Z",
     "start_time": "2023-01-13T07:15:46.780598Z"
    }
   },
   "outputs": [
    {
     "data": {
      "text/plain": [
       "((672, 288, 1), (672, 1, 1))"
      ]
     },
     "execution_count": 17,
     "metadata": {},
     "output_type": "execute_result"
    }
   ],
   "source": [
    "x_train.shape, y_train.shape"
   ]
  },
  {
   "cell_type": "code",
   "execution_count": 18,
   "metadata": {
    "ExecuteTime": {
     "end_time": "2023-01-13T07:15:46.809912Z",
     "start_time": "2023-01-13T07:15:46.796025Z"
    }
   },
   "outputs": [],
   "source": [
    "# nural network parameters\n",
    "ACTIVATION_FUNCTION = \"relu\"\n",
    "L2_KERNEL_REGULARIZER = None # tf.keras.regularizers.l2(5e-7)\n",
    "\n",
    "# model tuning parameters\n",
    "LR_START = 1e-3\n",
    "LR_FINAL = 2e-4\n",
    "NUM_EPOCHS = 100\n",
    "BATCH_SIZE = 1024\n",
    "\n",
    "LR_FUNC = tf.keras.callbacks.ReduceLROnPlateau(monitor = \"val_loss\", factor = 0.5, patience = 4)\n",
    "ES_FUNC = tf.keras.callbacks.EarlyStopping(monitor = \"val_loss\", patience = 12, min_delta = 0.001, restore_best_weights = True)\n",
    "TM_FUNC = tf.keras.callbacks.TerminateOnNaN()\n",
    "\n",
    "# define the callbacks for model\n",
    "callbacks = [\n",
    "    # LR_FUNC, # learning rate\n",
    "    ES_FUNC, # early stopping of model training\n",
    "    # TM_FUNC  # terminate model training on null value\n",
    "]"
   ]
  },
  {
   "cell_type": "code",
   "execution_count": 19,
   "metadata": {
    "ExecuteTime": {
     "end_time": "2023-01-13T07:15:47.551147Z",
     "start_time": "2023-01-13T07:15:46.811914Z"
    }
   },
   "outputs": [
    {
     "name": "stdout",
     "output_type": "stream",
     "text": [
      "WARNING:tensorflow:Layer iLayer will not use cuDNN kernels since it doesn't meet the criteria. It will use a generic GPU kernel as fallback when running on GPU.\n",
      "WARNING:tensorflow:Layer HL-1 will not use cuDNN kernels since it doesn't meet the criteria. It will use a generic GPU kernel as fallback when running on GPU.\n",
      "Model: \"BareLSTM-1.0.0\"\n",
      "_______________________________________________________________________________________________________________________________\n",
      " Layer (type)                                            Output Shape                                      Param #             \n",
      "===============================================================================================================================\n",
      " iLayer (LSTM)                                           (None, 288, 64)                                   16896               \n",
      "                                                                                                                               \n",
      " HL-1 (LSTM)                                             (None, 32)                                        12416               \n",
      "                                                                                                                               \n",
      " HL-D1 (Dropout)                                         (None, 32)                                        0                   \n",
      "                                                                                                                               \n",
      " oLayer (Dense)                                          (None, 1)                                         33                  \n",
      "                                                                                                                               \n",
      "===============================================================================================================================\n",
      "Total params: 29,345\n",
      "Trainable params: 29,345\n",
      "Non-trainable params: 0\n",
      "_______________________________________________________________________________________________________________________________\n"
     ]
    }
   ],
   "source": [
    "netwk = BareLSTM(input_shape = (x_train.shape[1], x_train.shape[2]), output_shape = 1, activation = ACTIVATION_FUNCTION)\n",
    "model = netwk.get_2_layer_lstm()\n",
    "model.summary(line_length = 127)"
   ]
  },
  {
   "cell_type": "code",
   "execution_count": 20,
   "metadata": {
    "ExecuteTime": {
     "end_time": "2023-01-13T07:15:47.581594Z",
     "start_time": "2023-01-13T07:15:47.553144Z"
    }
   },
   "outputs": [],
   "source": [
    "model.compile(\n",
    "    optimizer = tf.keras.optimizers.Adam(learning_rate = LR_START, amsgrad = True),\n",
    "    loss = tf.keras.losses.MeanSquaredError(name = \"loss\"),\n",
    "    metrics = [tf.keras.metrics.RootMeanSquaredError(name = \"RMSE\"), tf.keras.metrics.MeanAbsoluteError(name = \"MAE\")]\n",
    ")"
   ]
  },
  {
   "cell_type": "code",
   "execution_count": 21,
   "metadata": {
    "ExecuteTime": {
     "end_time": "2023-01-13T07:19:31.951251Z",
     "start_time": "2023-01-13T07:15:47.586608Z"
    }
   },
   "outputs": [
    {
     "name": "stdout",
     "output_type": "stream",
     "text": [
      "Epoch 1/100\n",
      "1/1 [==============================] - 4s 4s/step - loss: 1.5210 - RMSE: 1.2333 - MAE: 1.2327 - val_loss: 1.4524 - val_RMSE: 1.2052 - val_MAE: 1.2051\n",
      "Epoch 2/100\n",
      "1/1 [==============================] - 2s 2s/step - loss: 1.4490 - RMSE: 1.2038 - MAE: 1.2032 - val_loss: 1.3883 - val_RMSE: 1.1783 - val_MAE: 1.1782\n",
      "Epoch 3/100\n",
      "1/1 [==============================] - 2s 2s/step - loss: 1.3864 - RMSE: 1.1774 - MAE: 1.1769 - val_loss: 1.3336 - val_RMSE: 1.1548 - val_MAE: 1.1548\n",
      "Epoch 4/100\n",
      "1/1 [==============================] - 2s 2s/step - loss: 1.3328 - RMSE: 1.1545 - MAE: 1.1539 - val_loss: 1.2989 - val_RMSE: 1.1397 - val_MAE: 1.1396\n",
      "Epoch 5/100\n",
      "1/1 [==============================] - 2s 2s/step - loss: 1.2962 - RMSE: 1.1385 - MAE: 1.1379 - val_loss: 1.2661 - val_RMSE: 1.1252 - val_MAE: 1.1252\n",
      "Epoch 6/100\n",
      "1/1 [==============================] - 2s 2s/step - loss: 1.2691 - RMSE: 1.1265 - MAE: 1.1259 - val_loss: 1.2333 - val_RMSE: 1.1105 - val_MAE: 1.1105\n",
      "Epoch 7/100\n",
      "1/1 [==============================] - 2s 2s/step - loss: 1.2366 - RMSE: 1.1120 - MAE: 1.1113 - val_loss: 1.2008 - val_RMSE: 1.0958 - val_MAE: 1.0958\n",
      "Epoch 8/100\n",
      "1/1 [==============================] - 2s 2s/step - loss: 1.2009 - RMSE: 1.0959 - MAE: 1.0951 - val_loss: 1.1759 - val_RMSE: 1.0844 - val_MAE: 1.0843\n",
      "Epoch 9/100\n",
      "1/1 [==============================] - 2s 2s/step - loss: 1.1744 - RMSE: 1.0837 - MAE: 1.0828 - val_loss: 1.1516 - val_RMSE: 1.0731 - val_MAE: 1.0731\n",
      "Epoch 10/100\n",
      "1/1 [==============================] - 2s 2s/step - loss: 1.1561 - RMSE: 1.0752 - MAE: 1.0742 - val_loss: 1.1236 - val_RMSE: 1.0600 - val_MAE: 1.0599\n",
      "Epoch 11/100\n",
      "1/1 [==============================] - 2s 2s/step - loss: 1.1181 - RMSE: 1.0574 - MAE: 1.0563 - val_loss: 1.0929 - val_RMSE: 1.0454 - val_MAE: 1.0454\n",
      "Epoch 12/100\n",
      "1/1 [==============================] - 2s 2s/step - loss: 1.0875 - RMSE: 1.0428 - MAE: 1.0416 - val_loss: 1.0578 - val_RMSE: 1.0285 - val_MAE: 1.0284\n",
      "Epoch 13/100\n",
      "1/1 [==============================] - 2s 2s/step - loss: 1.0587 - RMSE: 1.0289 - MAE: 1.0274 - val_loss: 1.0164 - val_RMSE: 1.0082 - val_MAE: 1.0081\n",
      "Epoch 14/100\n",
      "1/1 [==============================] - 2s 2s/step - loss: 1.0172 - RMSE: 1.0086 - MAE: 1.0067 - val_loss: 0.9699 - val_RMSE: 0.9848 - val_MAE: 0.9848\n",
      "Epoch 15/100\n",
      "1/1 [==============================] - 2s 2s/step - loss: 0.9742 - RMSE: 0.9870 - MAE: 0.9847 - val_loss: 0.9156 - val_RMSE: 0.9569 - val_MAE: 0.9568\n",
      "Epoch 16/100\n",
      "1/1 [==============================] - 2s 2s/step - loss: 0.9175 - RMSE: 0.9579 - MAE: 0.9550 - val_loss: 0.8527 - val_RMSE: 0.9234 - val_MAE: 0.9234\n",
      "Epoch 17/100\n",
      "1/1 [==============================] - 2s 2s/step - loss: 0.8592 - RMSE: 0.9269 - MAE: 0.9232 - val_loss: 0.7813 - val_RMSE: 0.8839 - val_MAE: 0.8838\n",
      "Epoch 18/100\n",
      "1/1 [==============================] - 2s 2s/step - loss: 0.7803 - RMSE: 0.8834 - MAE: 0.8787 - val_loss: 0.6976 - val_RMSE: 0.8352 - val_MAE: 0.8352\n",
      "Epoch 19/100\n",
      "1/1 [==============================] - 2s 2s/step - loss: 0.6992 - RMSE: 0.8362 - MAE: 0.8297 - val_loss: 0.5949 - val_RMSE: 0.7713 - val_MAE: 0.7712\n",
      "Epoch 20/100\n",
      "1/1 [==============================] - 2s 2s/step - loss: 0.5960 - RMSE: 0.7720 - MAE: 0.7621 - val_loss: 0.4696 - val_RMSE: 0.6852 - val_MAE: 0.6852\n",
      "Epoch 21/100\n",
      "1/1 [==============================] - 2s 2s/step - loss: 0.4756 - RMSE: 0.6897 - MAE: 0.6745 - val_loss: 0.3165 - val_RMSE: 0.5626 - val_MAE: 0.5624\n",
      "Epoch 22/100\n",
      "1/1 [==============================] - 2s 2s/step - loss: 0.3372 - RMSE: 0.5807 - MAE: 0.5528 - val_loss: 0.1396 - val_RMSE: 0.3736 - val_MAE: 0.3734\n",
      "Epoch 23/100\n",
      "1/1 [==============================] - 2s 2s/step - loss: 0.1893 - RMSE: 0.4351 - MAE: 0.3592 - val_loss: 6.5603e-04 - val_RMSE: 0.0256 - val_MAE: 0.0202\n",
      "Epoch 24/100\n",
      "1/1 [==============================] - 2s 2s/step - loss: 0.1434 - RMSE: 0.3786 - MAE: 0.3203 - val_loss: 0.0986 - val_RMSE: 0.3141 - val_MAE: 0.3120\n",
      "Epoch 25/100\n",
      "1/1 [==============================] - 2s 2s/step - loss: 0.4225 - RMSE: 0.6500 - MAE: 0.6204 - val_loss: 0.0029 - val_RMSE: 0.0543 - val_MAE: 0.0485\n",
      "Epoch 26/100\n",
      "1/1 [==============================] - 2s 2s/step - loss: 0.1347 - RMSE: 0.3670 - MAE: 0.3187 - val_loss: 0.0138 - val_RMSE: 0.1174 - val_MAE: 0.1159\n",
      "Epoch 27/100\n",
      "1/1 [==============================] - 2s 2s/step - loss: 0.1038 - RMSE: 0.3221 - MAE: 0.2174 - val_loss: 0.0488 - val_RMSE: 0.2208 - val_MAE: 0.2203\n",
      "Epoch 28/100\n",
      "1/1 [==============================] - 2s 2s/step - loss: 0.1260 - RMSE: 0.3549 - MAE: 0.2357 - val_loss: 0.0817 - val_RMSE: 0.2859 - val_MAE: 0.2856\n",
      "Epoch 29/100\n",
      "1/1 [==============================] - 2s 2s/step - loss: 0.1161 - RMSE: 0.3407 - MAE: 0.2542 - val_loss: 0.1065 - val_RMSE: 0.3263 - val_MAE: 0.3261\n",
      "Epoch 30/100\n",
      "1/1 [==============================] - 2s 2s/step - loss: 0.1534 - RMSE: 0.3917 - MAE: 0.3171 - val_loss: 0.1216 - val_RMSE: 0.3487 - val_MAE: 0.3484\n",
      "Epoch 31/100\n",
      "1/1 [==============================] - 2s 2s/step - loss: 0.1765 - RMSE: 0.4201 - MAE: 0.3502 - val_loss: 0.1276 - val_RMSE: 0.3573 - val_MAE: 0.3571\n",
      "Epoch 32/100\n",
      "1/1 [==============================] - 2s 2s/step - loss: 0.1697 - RMSE: 0.4120 - MAE: 0.3526 - val_loss: 0.1258 - val_RMSE: 0.3548 - val_MAE: 0.3545\n",
      "Epoch 33/100\n",
      "1/1 [==============================] - 2s 2s/step - loss: 0.1724 - RMSE: 0.4153 - MAE: 0.3533 - val_loss: 0.1174 - val_RMSE: 0.3426 - val_MAE: 0.3424\n",
      "Epoch 34/100\n",
      "1/1 [==============================] - 2s 2s/step - loss: 0.1697 - RMSE: 0.4119 - MAE: 0.3470 - val_loss: 0.1037 - val_RMSE: 0.3220 - val_MAE: 0.3218\n",
      "Epoch 35/100\n",
      "1/1 [==============================] - 2s 2s/step - loss: 0.1455 - RMSE: 0.3814 - MAE: 0.3164 - val_loss: 0.0860 - val_RMSE: 0.2932 - val_MAE: 0.2929\n",
      "Epoch 36/100\n",
      "1/1 [==============================] - 2s 2s/step - loss: 0.1290 - RMSE: 0.3592 - MAE: 0.2804 - val_loss: 0.0660 - val_RMSE: 0.2569 - val_MAE: 0.2566\n",
      "Epoch 37/100\n",
      "1/1 [==============================] - 2s 2s/step - loss: 0.1152 - RMSE: 0.3395 - MAE: 0.2519 - val_loss: 0.0458 - val_RMSE: 0.2140 - val_MAE: 0.2136\n",
      "Epoch 38/100\n",
      "1/1 [==============================] - 2s 2s/step - loss: 0.1041 - RMSE: 0.3227 - MAE: 0.2252 - val_loss: 0.0270 - val_RMSE: 0.1644 - val_MAE: 0.1639\n",
      "Epoch 39/100\n",
      "1/1 [==============================] - 2s 2s/step - loss: 0.0872 - RMSE: 0.2952 - MAE: 0.2049 - val_loss: 0.0121 - val_RMSE: 0.1099 - val_MAE: 0.1091\n",
      "Epoch 40/100\n",
      "1/1 [==============================] - 2s 2s/step - loss: 0.0747 - RMSE: 0.2733 - MAE: 0.1932 - val_loss: 0.0029 - val_RMSE: 0.0537 - val_MAE: 0.0519\n",
      "Epoch 41/100\n",
      "1/1 [==============================] - 2s 2s/step - loss: 0.0698 - RMSE: 0.2642 - MAE: 0.2059 - val_loss: 2.2668e-04 - val_RMSE: 0.0151 - val_MAE: 0.0108\n",
      "Epoch 42/100\n",
      "1/1 [==============================] - 2s 2s/step - loss: 0.0689 - RMSE: 0.2625 - MAE: 0.2154 - val_loss: 0.0025 - val_RMSE: 0.0502 - val_MAE: 0.0478\n",
      "Epoch 43/100\n",
      "1/1 [==============================] - 2s 2s/step - loss: 0.0870 - RMSE: 0.2950 - MAE: 0.2527 - val_loss: 0.0057 - val_RMSE: 0.0757 - val_MAE: 0.0741\n",
      "Epoch 44/100\n",
      "1/1 [==============================] - 2s 2s/step - loss: 0.0892 - RMSE: 0.2987 - MAE: 0.2552 - val_loss: 0.0068 - val_RMSE: 0.0827 - val_MAE: 0.0813\n",
      "Epoch 45/100\n",
      "1/1 [==============================] - 2s 2s/step - loss: 0.0926 - RMSE: 0.3043 - MAE: 0.2644 - val_loss: 0.0050 - val_RMSE: 0.0706 - val_MAE: 0.0690\n",
      "Epoch 46/100\n",
      "1/1 [==============================] - 2s 2s/step - loss: 0.0875 - RMSE: 0.2957 - MAE: 0.2558 - val_loss: 0.0021 - val_RMSE: 0.0458 - val_MAE: 0.0435\n",
      "Epoch 47/100\n",
      "1/1 [==============================] - 2s 2s/step - loss: 0.0824 - RMSE: 0.2870 - MAE: 0.2445 - val_loss: 3.0166e-04 - val_RMSE: 0.0174 - val_MAE: 0.0119\n",
      "Epoch 48/100\n",
      "1/1 [==============================] - 2s 2s/step - loss: 0.0767 - RMSE: 0.2769 - MAE: 0.2282 - val_loss: 7.9669e-04 - val_RMSE: 0.0282 - val_MAE: 0.0250\n",
      "Epoch 49/100\n",
      "1/1 [==============================] - 2s 2s/step - loss: 0.0758 - RMSE: 0.2753 - MAE: 0.2259 - val_loss: 0.0034 - val_RMSE: 0.0582 - val_MAE: 0.0567\n",
      "Epoch 50/100\n",
      "1/1 [==============================] - 2s 2s/step - loss: 0.0755 - RMSE: 0.2747 - MAE: 0.2164 - val_loss: 0.0071 - val_RMSE: 0.0841 - val_MAE: 0.0831\n",
      "Epoch 51/100\n"
     ]
    },
    {
     "name": "stdout",
     "output_type": "stream",
     "text": [
      "1/1 [==============================] - 2s 2s/step - loss: 0.0640 - RMSE: 0.2530 - MAE: 0.1938 - val_loss: 0.0110 - val_RMSE: 0.1049 - val_MAE: 0.1042\n",
      "Epoch 52/100\n",
      "1/1 [==============================] - 2s 2s/step - loss: 0.0727 - RMSE: 0.2697 - MAE: 0.2052 - val_loss: 0.0142 - val_RMSE: 0.1193 - val_MAE: 0.1186\n",
      "Epoch 53/100\n",
      "1/1 [==============================] - 2s 2s/step - loss: 0.0697 - RMSE: 0.2639 - MAE: 0.1889 - val_loss: 0.0165 - val_RMSE: 0.1283 - val_MAE: 0.1278\n",
      "Epoch 54/100\n",
      "1/1 [==============================] - 2s 2s/step - loss: 0.0693 - RMSE: 0.2632 - MAE: 0.1924 - val_loss: 0.0175 - val_RMSE: 0.1324 - val_MAE: 0.1318\n",
      "Epoch 55/100\n",
      "1/1 [==============================] - 2s 2s/step - loss: 0.0679 - RMSE: 0.2605 - MAE: 0.1922 - val_loss: 0.0173 - val_RMSE: 0.1315 - val_MAE: 0.1309\n",
      "Epoch 56/100\n",
      "1/1 [==============================] - 2s 2s/step - loss: 0.0695 - RMSE: 0.2637 - MAE: 0.1920 - val_loss: 0.0159 - val_RMSE: 0.1262 - val_MAE: 0.1257\n",
      "Epoch 57/100\n",
      "1/1 [==============================] - 2s 2s/step - loss: 0.0728 - RMSE: 0.2698 - MAE: 0.2013 - val_loss: 0.0136 - val_RMSE: 0.1164 - val_MAE: 0.1158\n",
      "Epoch 58/100\n",
      "1/1 [==============================] - 2s 2s/step - loss: 0.0699 - RMSE: 0.2643 - MAE: 0.1978 - val_loss: 0.0106 - val_RMSE: 0.1031 - val_MAE: 0.1023\n",
      "Epoch 59/100\n",
      "1/1 [==============================] - 2s 2s/step - loss: 0.0758 - RMSE: 0.2754 - MAE: 0.2090 - val_loss: 0.0077 - val_RMSE: 0.0880 - val_MAE: 0.0871\n",
      "Epoch 60/100\n",
      "1/1 [==============================] - 2s 2s/step - loss: 0.0645 - RMSE: 0.2540 - MAE: 0.1963 - val_loss: 0.0050 - val_RMSE: 0.0708 - val_MAE: 0.0697\n",
      "Epoch 61/100\n",
      "1/1 [==============================] - 2s 2s/step - loss: 0.0582 - RMSE: 0.2413 - MAE: 0.1901 - val_loss: 0.0029 - val_RMSE: 0.0538 - val_MAE: 0.0523\n",
      "Epoch 62/100\n",
      "1/1 [==============================] - 2s 2s/step - loss: 0.0598 - RMSE: 0.2445 - MAE: 0.1978 - val_loss: 0.0015 - val_RMSE: 0.0382 - val_MAE: 0.0360\n",
      "Epoch 63/100\n",
      "1/1 [==============================] - 2s 2s/step - loss: 0.0596 - RMSE: 0.2442 - MAE: 0.1994 - val_loss: 6.5987e-04 - val_RMSE: 0.0257 - val_MAE: 0.0226\n",
      "Epoch 64/100\n",
      "1/1 [==============================] - 2s 2s/step - loss: 0.0595 - RMSE: 0.2438 - MAE: 0.2024 - val_loss: 3.0746e-04 - val_RMSE: 0.0175 - val_MAE: 0.0167\n",
      "Epoch 65/100\n",
      "1/1 [==============================] - 2s 2s/step - loss: 0.0629 - RMSE: 0.2509 - MAE: 0.2076 - val_loss: 2.0569e-04 - val_RMSE: 0.0143 - val_MAE: 0.0136\n",
      "Epoch 66/100\n",
      "1/1 [==============================] - 2s 2s/step - loss: 0.0701 - RMSE: 0.2648 - MAE: 0.2225 - val_loss: 2.0593e-04 - val_RMSE: 0.0144 - val_MAE: 0.0136\n",
      "Epoch 67/100\n",
      "1/1 [==============================] - 2s 2s/step - loss: 0.0639 - RMSE: 0.2528 - MAE: 0.2102 - val_loss: 2.7732e-04 - val_RMSE: 0.0167 - val_MAE: 0.0160\n",
      "Epoch 68/100\n",
      "1/1 [==============================] - 2s 2s/step - loss: 0.0599 - RMSE: 0.2447 - MAE: 0.2042 - val_loss: 5.0765e-04 - val_RMSE: 0.0225 - val_MAE: 0.0202\n",
      "Epoch 69/100\n",
      "1/1 [==============================] - 2s 2s/step - loss: 0.0583 - RMSE: 0.2415 - MAE: 0.2006 - val_loss: 0.0011 - val_RMSE: 0.0330 - val_MAE: 0.0304\n",
      "Epoch 70/100\n",
      "1/1 [==============================] - 2s 2s/step - loss: 0.0630 - RMSE: 0.2511 - MAE: 0.2014 - val_loss: 0.0020 - val_RMSE: 0.0443 - val_MAE: 0.0424\n",
      "Epoch 71/100\n",
      "1/1 [==============================] - 2s 2s/step - loss: 0.0548 - RMSE: 0.2342 - MAE: 0.1893 - val_loss: 0.0032 - val_RMSE: 0.0562 - val_MAE: 0.0548\n",
      "Epoch 72/100\n",
      "1/1 [==============================] - 2s 2s/step - loss: 0.0572 - RMSE: 0.2391 - MAE: 0.1905 - val_loss: 0.0045 - val_RMSE: 0.0674 - val_MAE: 0.0662\n",
      "Epoch 73/100\n",
      "1/1 [==============================] - 2s 2s/step - loss: 0.0606 - RMSE: 0.2462 - MAE: 0.1905 - val_loss: 0.0057 - val_RMSE: 0.0756 - val_MAE: 0.0746\n",
      "Epoch 74/100\n",
      "1/1 [==============================] - 2s 2s/step - loss: 0.0577 - RMSE: 0.2403 - MAE: 0.1875 - val_loss: 0.0064 - val_RMSE: 0.0802 - val_MAE: 0.0792\n",
      "Epoch 75/100\n",
      "1/1 [==============================] - 2s 2s/step - loss: 0.0568 - RMSE: 0.2384 - MAE: 0.1847 - val_loss: 0.0069 - val_RMSE: 0.0828 - val_MAE: 0.0819\n",
      "Epoch 76/100\n",
      "1/1 [==============================] - 2s 2s/step - loss: 0.0601 - RMSE: 0.2451 - MAE: 0.1913 - val_loss: 0.0069 - val_RMSE: 0.0833 - val_MAE: 0.0824\n",
      "Epoch 77/100\n",
      "1/1 [==============================] - 2s 2s/step - loss: 0.0558 - RMSE: 0.2362 - MAE: 0.1846 - val_loss: 0.0067 - val_RMSE: 0.0819 - val_MAE: 0.0810\n",
      "Epoch 78/100\n",
      "1/1 [==============================] - 2s 2s/step - loss: 0.0588 - RMSE: 0.2426 - MAE: 0.1884 - val_loss: 0.0059 - val_RMSE: 0.0771 - val_MAE: 0.0761\n",
      "Epoch 79/100\n",
      "1/1 [==============================] - 2s 2s/step - loss: 0.0544 - RMSE: 0.2333 - MAE: 0.1854 - val_loss: 0.0050 - val_RMSE: 0.0709 - val_MAE: 0.0698\n",
      "Epoch 80/100\n",
      "1/1 [==============================] - 2s 2s/step - loss: 0.0566 - RMSE: 0.2380 - MAE: 0.1845 - val_loss: 0.0041 - val_RMSE: 0.0640 - val_MAE: 0.0627\n",
      "Epoch 81/100\n",
      "1/1 [==============================] - 2s 2s/step - loss: 0.0539 - RMSE: 0.2322 - MAE: 0.1878 - val_loss: 0.0033 - val_RMSE: 0.0571 - val_MAE: 0.0557\n",
      "Epoch 82/100\n",
      "1/1 [==============================] - 2s 2s/step - loss: 0.0614 - RMSE: 0.2479 - MAE: 0.1970 - val_loss: 0.0025 - val_RMSE: 0.0501 - val_MAE: 0.0484\n",
      "Epoch 83/100\n",
      "1/1 [==============================] - 2s 2s/step - loss: 0.0591 - RMSE: 0.2431 - MAE: 0.1996 - val_loss: 0.0020 - val_RMSE: 0.0451 - val_MAE: 0.0432\n",
      "Epoch 84/100\n",
      "1/1 [==============================] - 2s 2s/step - loss: 0.0571 - RMSE: 0.2389 - MAE: 0.1938 - val_loss: 0.0018 - val_RMSE: 0.0419 - val_MAE: 0.0398\n",
      "Epoch 85/100\n",
      "1/1 [==============================] - 2s 2s/step - loss: 0.0465 - RMSE: 0.2157 - MAE: 0.1786 - val_loss: 0.0019 - val_RMSE: 0.0431 - val_MAE: 0.0411\n",
      "Epoch 86/100\n",
      "1/1 [==============================] - 2s 2s/step - loss: 0.0516 - RMSE: 0.2273 - MAE: 0.1855 - val_loss: 0.0021 - val_RMSE: 0.0461 - val_MAE: 0.0443\n",
      "Epoch 87/100\n",
      "1/1 [==============================] - 2s 2s/step - loss: 0.0561 - RMSE: 0.2368 - MAE: 0.1899 - val_loss: 0.0026 - val_RMSE: 0.0510 - val_MAE: 0.0494\n",
      "Epoch 88/100\n",
      "1/1 [==============================] - 2s 2s/step - loss: 0.0541 - RMSE: 0.2325 - MAE: 0.1850 - val_loss: 0.0030 - val_RMSE: 0.0544 - val_MAE: 0.0529\n",
      "Epoch 89/100\n",
      "1/1 [==============================] - 2s 2s/step - loss: 0.0526 - RMSE: 0.2293 - MAE: 0.1816 - val_loss: 0.0034 - val_RMSE: 0.0586 - val_MAE: 0.0572\n",
      "Epoch 90/100\n",
      "1/1 [==============================] - 2s 2s/step - loss: 0.0577 - RMSE: 0.2401 - MAE: 0.1885 - val_loss: 0.0038 - val_RMSE: 0.0619 - val_MAE: 0.0606\n",
      "Epoch 91/100\n",
      "1/1 [==============================] - 2s 2s/step - loss: 0.0536 - RMSE: 0.2314 - MAE: 0.1849 - val_loss: 0.0040 - val_RMSE: 0.0635 - val_MAE: 0.0622\n",
      "Epoch 92/100\n",
      "1/1 [==============================] - 2s 2s/step - loss: 0.0534 - RMSE: 0.2310 - MAE: 0.1833 - val_loss: 0.0041 - val_RMSE: 0.0639 - val_MAE: 0.0626\n",
      "Epoch 93/100\n",
      "1/1 [==============================] - 2s 2s/step - loss: 0.0534 - RMSE: 0.2310 - MAE: 0.1815 - val_loss: 0.0040 - val_RMSE: 0.0633 - val_MAE: 0.0620\n",
      "Epoch 94/100\n",
      "1/1 [==============================] - 2s 2s/step - loss: 0.0615 - RMSE: 0.2479 - MAE: 0.1946 - val_loss: 0.0036 - val_RMSE: 0.0600 - val_MAE: 0.0586\n",
      "Epoch 95/100\n",
      "1/1 [==============================] - 2s 2s/step - loss: 0.0494 - RMSE: 0.2222 - MAE: 0.1812 - val_loss: 0.0032 - val_RMSE: 0.0562 - val_MAE: 0.0547\n",
      "Epoch 96/100\n",
      "1/1 [==============================] - 2s 2s/step - loss: 0.0566 - RMSE: 0.2380 - MAE: 0.1873 - val_loss: 0.0025 - val_RMSE: 0.0504 - val_MAE: 0.0487\n",
      "Epoch 97/100\n",
      "1/1 [==============================] - 2s 2s/step - loss: 0.0501 - RMSE: 0.2238 - MAE: 0.1803 - val_loss: 0.0022 - val_RMSE: 0.0464 - val_MAE: 0.0445\n",
      "Epoch 98/100\n",
      "1/1 [==============================] - 2s 2s/step - loss: 0.0487 - RMSE: 0.2206 - MAE: 0.1770 - val_loss: 0.0019 - val_RMSE: 0.0431 - val_MAE: 0.0410\n",
      "Epoch 99/100\n",
      "1/1 [==============================] - 2s 2s/step - loss: 0.0471 - RMSE: 0.2171 - MAE: 0.1756 - val_loss: 0.0017 - val_RMSE: 0.0418 - val_MAE: 0.0396\n",
      "Epoch 100/100\n",
      "1/1 [==============================] - 2s 2s/step - loss: 0.0513 - RMSE: 0.2264 - MAE: 0.1845 - val_loss: 0.0017 - val_RMSE: 0.0417 - val_MAE: 0.0396\n"
     ]
    }
   ],
   "source": [
    "history = model.fit(\n",
    "    x_train, y_train,\n",
    "    epochs = NUM_EPOCHS, batch_size = BATCH_SIZE, validation_split = 0.05, shuffle = True,\n",
    ")"
   ]
  },
  {
   "cell_type": "code",
   "execution_count": 22,
   "metadata": {
    "ExecuteTime": {
     "end_time": "2023-01-13T07:19:32.251144Z",
     "start_time": "2023-01-13T07:19:31.953264Z"
    }
   },
   "outputs": [
    {
     "data": {
      "image/png": "[encoded data removed]",
      "text/plain": [
       "<Figure size 2700x300 with 2 Axes>"
      ]
     },
     "metadata": {},
     "output_type": "display_data"
    }
   ],
   "source": [
    "plt.figure(figsize = (27, 3))\n",
    "\n",
    "plt.subplot(121)\n",
    "plt.plot(history.history[\"loss\"], label = \"loss\")\n",
    "plt.plot(history.history[\"val_loss\"], label = \"val_loss\")\n",
    "\n",
    "plt.title(\"Loss Metric (AUC)\")\n",
    "plt.legend()\n",
    "\n",
    "plt.subplot(122)\n",
    "plt.plot(history.history[\"MAE\"], label = \"MAE\")\n",
    "plt.plot(history.history[\"val_MAE\"], label = \"val_MAE\")\n",
    "\n",
    "plt.title(\"Mean Absolute Error (MAE)\")\n",
    "plt.legend()\n",
    "plt.show()"
   ]
  },
  {
   "cell_type": "code",
   "execution_count": 23,
   "metadata": {
    "ExecuteTime": {
     "end_time": "2023-01-13T07:19:37.989546Z",
     "start_time": "2023-01-13T07:19:32.253112Z"
    }
   },
   "outputs": [
    {
     "name": "stdout",
     "output_type": "stream",
     "text": [
      "21/21 [==============================] - 6s 262ms/step\n"
     ]
    }
   ],
   "source": [
    "# let's see the prediction of the own data and plot it against the actual\n",
    "y_predicted = model.predict(x_train).reshape(1, -1)[0]"
   ]
  },
  {
   "cell_type": "code",
   "execution_count": 29,
   "metadata": {
    "ExecuteTime": {
     "end_time": "2023-01-13T07:20:33.627026Z",
     "start_time": "2023-01-13T07:20:33.616105Z"
    }
   },
   "outputs": [
    {
     "data": {
      "text/plain": [
       "(0.0370409595279053, 0.04263899569731256)"
      ]
     },
     "execution_count": 29,
     "metadata": {},
     "output_type": "execute_result"
    }
   ],
   "source": [
    "# so we can calculate the mae and rmse loss for the model as:\n",
    "MAE(y_train.reshape(1, -1)[0], y_predicted), MSE(y_train.reshape(1, -1)[0], y_predicted, squared = False)"
   ]
  },
  {
   "cell_type": "code",
   "execution_count": 31,
   "metadata": {
    "ExecuteTime": {
     "end_time": "2023-01-13T07:20:47.060030Z",
     "start_time": "2023-01-13T07:20:46.846941Z"
    },
    "deletable": false,
    "editable": false,
    "run_control": {
     "frozen": true
    }
   },
   "outputs": [
    {
     "data": {
      "image/png": "[encoded data removed]",
      "text/plain": [
       "<Figure size 2700x300 with 1 Axes>"
      ]
     },
     "metadata": {},
     "output_type": "display_data"
    }
   ],
   "source": [
    "plt.figure(figsize = (27, 3))\n",
    "\n",
    "plt.plot(y_train.reshape(1, -1)[0], label = \"$y$\")\n",
    "plt.plot(y_predicted, label = \"$\\hat{y}$\")\n",
    "\n",
    "plt.xticks([]) # close for now\n",
    "\n",
    "plt.legend()\n",
    "plt.show()"
   ]
  }
 ],
 "metadata": {
  "hide_input": false,
  "kernelspec": {
   "display_name": "TensorFlow 2.9.0 (GPU)",
   "language": "python",
   "name": "tensorflow"
  },
  "language_info": {
   "codemirror_mode": {
    "name": "ipython",
    "version": 3
   },
   "file_extension": ".py",
   "mimetype": "text/x-python",
   "name": "python",
   "nbconvert_exporter": "python",
   "pygments_lexer": "ipython3",
   "version": "3.9.13"
  },
  "latex_envs": {
   "LaTeX_envs_menu_present": true,
   "autoclose": true,
   "autocomplete": true,
   "bibliofile": "biblio.bib",
   "cite_by": "apalike",
   "current_citInitial": 1,
   "eqLabelWithNumbers": true,
   "eqNumInitial": 1,
   "hotkeys": {
    "equation": "Ctrl-E",
    "itemize": "Ctrl-I"
   },
   "labels_anchors": false,
   "latex_user_defs": false,
   "report_style_numbering": false,
   "user_envs_cfg": false
  },
  "toc": {
   "base_numbering": 1,
   "nav_menu": {},
   "number_sections": false,
   "sideBar": true,
   "skip_h1_title": true,
   "title_cell": "Table of Contents",
   "title_sidebar": "Contents",
   "toc_cell": false,
   "toc_position": {},
   "toc_section_display": true,
   "toc_window_display": false
  },
  "varInspector": {
   "cols": {
    "lenName": 16,
    "lenType": 16,
    "lenVar": 40
   },
   "kernels_config": {
    "python": {
     "delete_cmd_postfix": "",
     "delete_cmd_prefix": "del ",
     "library": "var_list.py",
     "varRefreshCmd": "print(var_dic_list())"
    },
    "r": {
     "delete_cmd_postfix": ") ",
     "delete_cmd_prefix": "rm(",
     "library": "var_list.r",
     "varRefreshCmd": "cat(var_dic_list()) "
    }
   },
   "types_to_exclude": [
    "module",
    "function",
    "builtin_function_or_method",
    "instance",
    "_Feature"
   ],
   "window_display": false
  }
 },
 "nbformat": 4,
 "nbformat_minor": 2
}
